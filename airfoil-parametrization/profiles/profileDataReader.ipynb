{
 "cells": [
  {
   "cell_type": "code",
   "execution_count": 89,
   "metadata": {},
   "outputs": [],
   "source": [
    "%matplotlib inline\n",
    "import matplotlib.pyplot as plt\n",
    "import numpy as np\n",
    "import os\n",
    "from scipy.interpolate import interp1d"
   ]
  },
  {
   "cell_type": "markdown",
   "metadata": {},
   "source": [
    "In this file, conversion from a data file with the coordinates of some profile will be normalized (to have a total chord length of 1), ordered and stored (in four arrays going from 0 to 1 in the x-axis with the respective upper and lower surfaces). One inconvenient that the code must face is that positive y values are usually separated with two spaces '  ' while negative values have just one space ' '."
   ]
  },
  {
   "cell_type": "code",
   "execution_count": 90,
   "metadata": {},
   "outputs": [],
   "source": [
    "# set the name of the file with the coordinates (some example files from airfoiltools are provided)\n",
    "filename = \"b29\"\n",
    "file = open(filename, \"r\")\n",
    "file_str = file.read().replace(\"  \", \" \")\n",
    "\n",
    "# delete the file with two spaces\n",
    "os.system(\"rm %s\" %filename)\n",
    "\n",
    "# save the file with just one space\n",
    "file = open(filename, \"w\")\n",
    "file.write(file_str)\n",
    "file.close()"
   ]
  },
  {
   "cell_type": "code",
   "execution_count": 91,
   "metadata": {},
   "outputs": [
    {
     "name": "stdout",
     "output_type": "stream",
     "text": [
      "[ 0. 18. 38.]\n"
     ]
    }
   ],
   "source": [
    "# import the file (assuming that the first line contains the name of the airfoil)\n",
    "airfoil_pts = np.genfromtxt(filename, skip_header=1, delimiter=' ')\n",
    "\n",
    "# indexes of the matrix\n",
    "slices = np.linspace(0, len(airfoil_pts)-1, len(airfoil_pts))\n",
    "\n",
    "# y=0 intercept of the airfoil\n",
    "y_inter = airfoil_pts[:,1] == 0\n",
    "\n",
    "# position of the y-intercept refered to index\n",
    "print(slices[y_inter])"
   ]
  },
  {
   "cell_type": "code",
   "execution_count": 92,
   "metadata": {},
   "outputs": [],
   "source": [
    "# positive-y surface of the airfoil\n",
    "pos_side = airfoil_pts[:int(slices[y_inter][1]+1), :]\n",
    "pos_side = pos_side[pos_side[:, 0].argsort()]\n",
    "\n",
    "# negative-y surface of the airfoil\n",
    "neg_side = airfoil_pts[int(slices[y_inter][1]):, :]\n",
    "neg_side = neg_side[neg_side[:, 0].argsort()]\n",
    "\n",
    "# extract the x and y for both upper and lower surface\n",
    "xu = pos_side[:,0]\n",
    "yu = pos_side[:,1]\n",
    "xl = neg_side[:,0]\n",
    "yl = neg_side[:,1]"
   ]
  },
  {
   "cell_type": "code",
   "execution_count": 93,
   "metadata": {},
   "outputs": [],
   "source": [
    "# functions taken from https://github.com/jlobatop/GA-CFD-MO/tree/master/airfoil-parametrization/NACA4/NACA_4digit.ipynb\n",
    "\n",
    "def simple_grading(N, expRatio, L):\n",
    "    # size of each cell array\n",
    "    delta = np.zeros(N) \n",
    "    # position of the nodes\n",
    "    nodes = np.zeros(N+1) \n",
    "\n",
    "    # value of k for all the line\n",
    "    kVal = expRatio**((1)/(N-1)) \n",
    "    # increment of k for each cell\n",
    "    k = np.zeros(N)\n",
    "\n",
    "    # compute that incremental k\n",
    "    for i in range(N):\n",
    "        k[i] = kVal**(i) \n",
    "\n",
    "    # first cell size \n",
    "    deltaS = L/np.sum(k)\n",
    "    # size of each cell\n",
    "    delta = deltaS*k \n",
    "    \n",
    "    # compute the location of the nodes\n",
    "    for i in range(N):\n",
    "        nodes[i+1] = nodes[i] + delta[i]\n",
    "\n",
    "    return nodes\n",
    "\n",
    "def multi_grading(perc, cells, eps, N, L): \n",
    "    \n",
    "    # some initial shape and value comprobations\n",
    "    if np.sum(perc) != 1:\n",
    "        raise ValueError('Bad percentage array input')\n",
    "        return\n",
    "\n",
    "    if np.sum(cells) != 1:\n",
    "        raise ValueError('Bad cell array input')\n",
    "        return\n",
    "    \n",
    "    if np.shape(perc)[0] != np.shape(cells)[0] or np.shape(perc)[0] != np.shape(eps)[0] or np.shape(cells)[0] != np.shape(eps)[0]:\n",
    "        raise ValueError('Non equal vector definition')\n",
    "        return\n",
    "\n",
    "    # cells per segment\n",
    "    segmentN = (N*cells) \n",
    "\n",
    "    # in case there are decimal values\n",
    "    restCells = np.modf(segmentN)[0] \n",
    "\n",
    "    # integer value of the cells\n",
    "    segmentN = np.trunc(segmentN) \n",
    "    \n",
    "    # distribution of the 'decimal' parts of the cells\n",
    "    i = np.sum(restCells) \n",
    "\n",
    "    # compute the correct subdivisions of the cells\n",
    "    while i > 0:\n",
    "        segmentN[np.argmax(restCells)] = segmentN[np.argmax(restCells)] + int(i)\n",
    "        restCells[np.argmax(restCells)] = 0\n",
    "        i -= 1\n",
    "   \n",
    "    # length per segment\n",
    "    segmentL = (L*perc) \n",
    "\n",
    "    # number of nodes    \n",
    "    nodes = np.zeros(N+1)\n",
    "    \n",
    "    # compute the location of each node in the line\n",
    "    for i in range(np.shape(perc)[0]):\n",
    "        nodesTemp = simple_grading(int(segmentN[i]), eps[i], segmentL[i])\n",
    "        for j in range(np.shape(nodesTemp)[0]):\n",
    "            if i == 0:\n",
    "                nodes[j] = nodesTemp[j]\n",
    "            else:\n",
    "                nodes[int(np.cumsum(segmentN)[i-1]) + j] = nodesTemp[j] + nodes[int(np.cumsum(segmentN)[i-1])]\n",
    "\n",
    "    return nodes\n",
    "\n",
    "def airfoilTrueX(newX, xu, yu, xl, yl):\n",
    "    # get the interpolation functions for both surfaces\n",
    "    yuF = interp1d(xu, yu, kind='cubic')\n",
    "    ylF = interp1d(xl, yl, kind='cubic')\n",
    "    # evaluate the function in the new x-axis coordinates\n",
    "    yuAxis = yuF(newX)\n",
    "    ylAxis = ylF(newX)\n",
    "    # return the new y-axis coordinates referred to newX\n",
    "    return yuAxis, ylAxis"
   ]
  },
  {
   "cell_type": "code",
   "execution_count": 101,
   "metadata": {},
   "outputs": [],
   "source": [
    "# definition of the grading\n",
    "perc = np.array([0.3,0.4,0.3])\n",
    "cells = np.array([0.6,0.2,0.2])\n",
    "exp = np.array([12,1.2,0.2])\n",
    "\n",
    "# selection of the new xpoints with twice as many as before\n",
    "xAxis = multi_grading(perc, cells, exp, 100, 0.9999)\n",
    "\n",
    "# recompute the airfoil in those new point locations\n",
    "nYu, nYl = airfoilTrueX(xAxis, xu, yu, xl, yl)"
   ]
  },
  {
   "cell_type": "code",
   "execution_count": 110,
   "metadata": {},
   "outputs": [
    {
     "data": {
      "text/plain": [
       "(-0.005, 0.01)"
      ]
     },
     "execution_count": 110,
     "metadata": {},
     "output_type": "execute_result"
    },
    {
     "data": {
      "image/png": "[encoded data removed]",
      "text/plain": [
       "<matplotlib.figure.Figure at 0x7f46ce54d0f0>"
      ]
     },
     "metadata": {},
     "output_type": "display_data"
    }
   ],
   "source": [
    "# plot both the old and new airfoils to see the differences\n",
    "fig, (ax1, ax2) = plt.subplots(1, 2, figsize = (20,5), dpi = 100)\n",
    "\n",
    "ax1.axis('equal')\n",
    "ax1.axis('off')\n",
    "ax1.plot(xu,yu,'^-b', lw = '0.2',markersize=3)\n",
    "ax1.plot(xl,yl,'^-b', lw = '0.2',markersize=3)\n",
    "ax1.plot(xAxis,nYu,'v-r', lw = '0.2',markersize=1)\n",
    "ax1.plot(xAxis,nYl,'v-r', lw = '0.2',markersize=1)\n",
    "ax1.set_title(filename,fontsize=14)\n",
    "ax1.set_xlim(-0.1,1.1)\n",
    "\n",
    "ax2.axis('equal')\n",
    "ax2.axis('off')\n",
    "ax2.plot(xu,yu,'^-b', lw = '0.6',markersize=6)\n",
    "ax2.plot(xl,yl,'^-b', lw = '0.6',markersize=6)\n",
    "ax2.plot(xAxis,nYu,'v-r', lw = '0.2',markersize=2)\n",
    "ax2.plot(xAxis,nYl,'v-r', lw = '0.2',markersize=2)\n",
    "ax2.set_title('LE of %s' %filename,fontsize=14)\n",
    "ax2.set_xlim([-0.005,0.01])"
   ]
  }
 ],
 "metadata": {
  "kernelspec": {
   "display_name": "Python 3",
   "language": "python",
   "name": "python3"
  },
  "language_info": {
   "codemirror_mode": {
    "name": "ipython",
    "version": 3
   },
   "file_extension": ".py",
   "mimetype": "text/x-python",
   "name": "python",
   "nbconvert_exporter": "python",
   "pygments_lexer": "ipython3",
   "version": "3.6.1"
  }
 },
 "nbformat": 4,
 "nbformat_minor": 2
}
