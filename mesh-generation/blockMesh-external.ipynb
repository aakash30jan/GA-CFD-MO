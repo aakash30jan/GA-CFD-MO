{
 "cells": [
  {
   "cell_type": "code",
   "execution_count": 1,
   "metadata": {},
   "outputs": [],
   "source": [
    "%matplotlib inline\n",
    "import numpy as np\n",
    "import matplotlib.pyplot as plt\n",
    "from scipy.interpolate import interp1d"
   ]
  },
  {
   "cell_type": "code",
   "execution_count": 2,
   "metadata": {},
   "outputs": [],
   "source": [
    "%%bash\n",
    "# remove previous blockMeshDict that may exist\n",
    "rm extMesh/system/blockMeshDict"
   ]
  },
  {
   "cell_type": "markdown",
   "metadata": {},
   "source": [
    "# 0. Input values"
   ]
  },
  {
   "cell_type": "markdown",
   "metadata": {},
   "source": [
    "## 0.0 Case parameters"
   ]
  },
  {
   "cell_type": "code",
   "execution_count": 3,
   "metadata": {},
   "outputs": [],
   "source": [
    "target_yplus = 10   # target of y_plus value\n",
    "U = 10              # freestream velocity in m/s\n",
    "mu = 0.00001789     # viscosity in Pa*s\n",
    "rho = 1.225         # density in kg/m^3"
   ]
  },
  {
   "cell_type": "markdown",
   "metadata": {},
   "source": [
    "## 0.1 Basic parameters"
   ]
  },
  {
   "cell_type": "code",
   "execution_count": 4,
   "metadata": {},
   "outputs": [],
   "source": [
    "chord = 1          # chord of the airfoil\n",
    "percChord = 0.25   # percentage of the chord in which the block cut is made\n",
    "Vspace = 3*chord   # vertical space above and below the airfoil\n",
    "wake = 7*chord     # horizontal space after the trailing edge\n",
    "minZ = 0.0         # minimum z-coordinate value\n",
    "maxZ = 0.1         # maximum z-coordinate value"
   ]
  },
  {
   "cell_type": "markdown",
   "metadata": {},
   "source": [
    "## 0.2 Profile configuration"
   ]
  },
  {
   "cell_type": "code",
   "execution_count": 5,
   "metadata": {},
   "outputs": [],
   "source": [
    "NACAtype = '2410'  # NACA 4 digit airfoil"
   ]
  },
  {
   "cell_type": "markdown",
   "metadata": {},
   "source": [
    "## 0.3 Grid configuration"
   ]
  },
  {
   "cell_type": "code",
   "execution_count": 6,
   "metadata": {},
   "outputs": [],
   "source": [
    "inflowXcells = 60    # number of cells ahead the airfoil \n",
    "middleXcells = 50    # number of cells over the airfoil \n",
    "outflowXcells = 350  # number of cells downstream the airfoil\n",
    "\n",
    "yCells = 40          # number of cells above and below the airfoil\n",
    "\n",
    "zCells = 1           # number of cells in the z-direction"
   ]
  },
  {
   "cell_type": "markdown",
   "metadata": {},
   "source": [
    "## 0.4 Airfoil chord configuration"
   ]
  },
  {
   "cell_type": "code",
   "execution_count": 7,
   "metadata": {},
   "outputs": [],
   "source": [
    "noPoints = inflowXcells + middleXcells              # number of points of the airfoil (and therefore upstream and over the airfoil)\n",
    "                                                 \n",
    "percentage = np.array([0.1, 0.15, 0.375, 0.375])    # percentage distribution of points in the chord the first two must add to percChord\n",
    "divisions = np.array([0.18, 0.12, 0.4, 0.3])        # location of the noPoints divisions over the chord\n",
    "expansionR = np.array([3, 1.5, 1.8, 0.8])           # expansion ratio of each one of the divisions"
   ]
  },
  {
   "cell_type": "markdown",
   "metadata": {},
   "source": [
    "## 0.5 Grading of Y direction "
   ]
  },
  {
   "cell_type": "code",
   "execution_count": 8,
   "metadata": {},
   "outputs": [],
   "source": [
    "expansionRatioYdir = 1.321   # expansion ratio of the y direction (BL)\n",
    "NoLayers = 15                # number of layers of the boundary layer\n",
    "yGradingOutflow = 30         # grading on the outflow direction (after BL)"
   ]
  },
  {
   "cell_type": "markdown",
   "metadata": {},
   "source": [
    "## 0.6 Grading of outflow X direction "
   ]
  },
  {
   "cell_type": "code",
   "execution_count": 9,
   "metadata": {},
   "outputs": [],
   "source": [
    "xGradingOutflow = 2    # grading on the outflow direction"
   ]
  },
  {
   "cell_type": "markdown",
   "metadata": {},
   "source": [
    "# 1. Function declaration"
   ]
  },
  {
   "cell_type": "code",
   "execution_count": 10,
   "metadata": {},
   "outputs": [],
   "source": [
    "def NACA4(s,c):\n",
    "    # Definition of the NACA profile as a string 'XXXX'\n",
    "    NACA = s\n",
    "    # fixed chord line\n",
    "    c = c\n",
    "    # NACA 4 digits are defined as XXXX = m p (pt)\n",
    "    # maximum camber\n",
    "    m = int(int(NACA)/1e3)/1e2 \n",
    "    # location of maximum camber\n",
    "    p = int((int(NACA)-m*1e5)/1e2)/1e1\n",
    "    # percentage of thickness with respect to the chord\n",
    "    pt = int((int(NACA)-m*1e5-p*1e3)) \n",
    "    \n",
    "    # figure declaration\n",
    "    fig = plt.gcf()\n",
    "    fig.set_size_inches(20,12)\n",
    "    ax1 = plt.subplot(1,2,1)\n",
    "    ax2 = plt.subplot(1,2,2)\n",
    "    \n",
    "    # mean camber line definition\n",
    "    # non-symmetrical airfoil\n",
    "    if p != 0:\n",
    "        # coordinates of the X axis\n",
    "        x = np.append(np.linspace(0,p/100*c,200)[:-1],np.linspace(p/100*c,c,200))\n",
    "        # masked array to create the piece-wise function\n",
    "        x_pc = x<(p*c) \n",
    "        # upper and lower surfaces\n",
    "        yc1 = ((c*m)/(p**2))*(2*p*(x/c)-(x/c)**2)\n",
    "        yc2 = ((c*m)/((1-p)**2))*((1-2*p)+2*p*(x/c)-(x/c)**2)\n",
    "        \n",
    "        # matrix for the whole airfoil surface\n",
    "        yc = np.zeros(np.shape(x))\n",
    "        # store the surfaces as corresponds\n",
    "        for i in range(np.shape(x)[0]):\n",
    "            if x_pc[i] == True:\n",
    "                yc[i] = yc1[i]\n",
    "            else:\n",
    "                yc[i] = yc2[i]\n",
    "\n",
    "        # compute the mean camber line derivative for each surface\n",
    "        dyc1dx = (2*m)/(p**2)*(p-(x/c))\n",
    "        dyc2dx = (2*m)/((1-p)**2)*(p-(x/c))\n",
    "        # matrix for the whole airfoil mean camber line derivative\n",
    "        dycdx = np.zeros(np.shape(x))\n",
    "        # store the mean camber line derivative as corresponds        \n",
    "        for i in range(np.shape(x)[0]):\n",
    "            if x_pc[i] == True:\n",
    "                dycdx[i] = dyc1dx[i]\n",
    "            else:\n",
    "                dycdx[i] = dyc2dx[i]\n",
    "        # compute the angle of the derivative\n",
    "        theta = np.arctan(dycdx)\n",
    "\n",
    "        # plot the mean camber line\n",
    "        ax1.plot(x,yc1,'--k',label='yc1')\n",
    "        ax1.plot(x,yc2,'-.k',label='yc2')\n",
    "        ax1.plot(x,0.02*x_pc,':',color='grey', label='Masked matrix')\n",
    "        ax1.plot(x,yc,'b-',label='Mean camber Line')\n",
    "        ax1.legend()\n",
    "        \n",
    "    # symmetric airfoil \n",
    "    else:\n",
    "        # coordinates of the X axis\n",
    "        x = np.linspace(0,c,400)\n",
    "        # matrix for the whole airfoil surface\n",
    "        yc = np.zeros(np.shape(x))\n",
    "\n",
    "        # plot the mean camber line\n",
    "        ax1.plot(x,yc,'b-',label='Mean camber Line')\n",
    "        ax1.legend()\n",
    "\n",
    "    # compute the thicknes\n",
    "    # non-symmetrical airfoil    \n",
    "    if p != 0:\n",
    "        # compute the thickness\n",
    "        yt = 5*pt/100*(0.2969*np.sqrt(x/c)-0.1260*(x/c)-0.3516*(x/c)**2+0.2843*(x/c)**3-0.1036*(x/c)**4)\n",
    "        \n",
    "        # correct the coordinates of the mean camber line\n",
    "        xu = x - yt*np.sin(theta)\n",
    "        xl = x + yt*np.sin(theta)\n",
    "        yu = yc + yt*np.cos(theta)\n",
    "        yl = yc - yt*np.cos(theta)\n",
    "\n",
    "        # plot the airfoil\n",
    "        ax2.set_xlim(-c*0.1,1.1*c)\n",
    "        ax2.axis('equal')\n",
    "        ax2.axis('off')\n",
    "        ax2.plot(xu,yu,'b')\n",
    "        ax2.plot(xl,yl,'b')\n",
    "        ax2.fill_between(x, yu, yl,facecolor='blue',alpha=0.1)\n",
    "        ax2.plot(x,yc,'r',linewidth=0.7)\n",
    "        ax2.plot([0,c],[0,0],'g',linewidth=0.6)\n",
    "        \n",
    "        return xu, xl, yu, yl\n",
    "\n",
    "    # symmetric airfoil     \n",
    "    else:\n",
    "        # compute the thickness\n",
    "        yt = 5*pt/100*(0.2969*np.sqrt(x/c)-0.1260*(x/c)-0.3516*(x/c)**2+0.2843*(x/c)**3-0.1036*(x/c)**4)\n",
    "        \n",
    "        # plot the airfoil\n",
    "        ax2.set_xlim(-c*0.1,1.1*c)\n",
    "        ax2.axis('equal')\n",
    "        ax2.axis('off')\n",
    "        ax2.plot(x,yt,'b')\n",
    "        ax2.plot(x,-yt,'b')\n",
    "        ax2.fill_between(x, -yt, yt,facecolor='blue',alpha=0.1)\n",
    "        ax2.plot(x,yc,'r',linewidth=0.7)\n",
    "        ax2.plot([0,c],[0,0],'g',linewidth=0.6)\n",
    "\n",
    "        return x, x, yt, -yt"
   ]
  },
  {
   "cell_type": "code",
   "execution_count": 11,
   "metadata": {},
   "outputs": [],
   "source": [
    "def simple_grading(N, expRatio, L):\n",
    "    # size of each cell array\n",
    "    delta = np.zeros(N) \n",
    "    # position of the nodes\n",
    "    nodes = np.zeros(N+1) \n",
    "\n",
    "    # value of k for all the line\n",
    "    kVal = expRatio**((1)/(N-1)) \n",
    "    # increment of k for each cell\n",
    "    k = np.zeros(N)\n",
    "\n",
    "    # compute that incremental k\n",
    "    for i in range(N):\n",
    "        k[i] = kVal**(i) \n",
    "\n",
    "    # first cell size \n",
    "    deltaS = L/np.sum(k)\n",
    "    # size of each cell\n",
    "    delta = deltaS*k \n",
    "    \n",
    "    # compute the location of the nodes\n",
    "    for i in range(N):\n",
    "        nodes[i+1] = nodes[i] + delta[i]\n",
    "\n",
    "    return nodes"
   ]
  },
  {
   "cell_type": "code",
   "execution_count": 12,
   "metadata": {},
   "outputs": [],
   "source": [
    "def multi_grading(perc, cells, eps, N, L): \n",
    "    \n",
    "    # some initial shape and value comprobations\n",
    "    if np.sum(perc) != 1:\n",
    "        raise ValueError('Bad percentage array input')\n",
    "        return\n",
    "\n",
    "    if np.sum(cells) != 1:\n",
    "        raise ValueError('Bad cell array input')\n",
    "        return\n",
    "    \n",
    "    if np.shape(perc)[0] != np.shape(cells)[0] or np.shape(perc)[0] != np.shape(eps)[0] or np.shape(cells)[0] != np.shape(eps)[0]:\n",
    "        raise ValueError('Non equal vector definition')\n",
    "        return\n",
    "\n",
    "    # cells per segment\n",
    "    segmentN = (N*cells) \n",
    "\n",
    "    # in case there are decimal values\n",
    "    restCells = np.modf(segmentN)[0] \n",
    "\n",
    "    # integer value of the cells\n",
    "    segmentN = np.trunc(segmentN) \n",
    "    \n",
    "    # distribution of the 'decimal' parts of the cells\n",
    "    i = np.sum(restCells) \n",
    "\n",
    "    # compute the correct subdivisions of the cells\n",
    "    while i > 0:\n",
    "        segmentN[np.argmax(restCells)] = segmentN[np.argmax(restCells)] + int(i)\n",
    "        restCells[np.argmax(restCells)] = 0\n",
    "        i -= 1\n",
    "   \n",
    "    # length per segment\n",
    "    segmentL = (L*perc) \n",
    "\n",
    "    # number of nodes    \n",
    "    nodes = np.zeros(N+1)\n",
    "    \n",
    "    # compute the location of each node in the line\n",
    "    for i in range(np.shape(perc)[0]):\n",
    "        nodesTemp = simple_grading(int(segmentN[i]), eps[i], segmentL[i])\n",
    "        for j in range(np.shape(nodesTemp)[0]):\n",
    "            if i == 0:\n",
    "                nodes[j] = nodesTemp[j]\n",
    "            else:\n",
    "                nodes[int(np.cumsum(segmentN)[i-1]) + j] = nodesTemp[j] + nodes[int(np.cumsum(segmentN)[i-1])]\n",
    "\n",
    "    return nodes"
   ]
  },
  {
   "cell_type": "code",
   "execution_count": 13,
   "metadata": {},
   "outputs": [],
   "source": [
    "def grading_plot(x): #nodes is the input from simple_grading\n",
    "\n",
    "    # get a y-coordinate vector for the x-shape\n",
    "    y = 0.5*np.ones(np.shape(x)[0])\n",
    "    \n",
    "    # create the figure\n",
    "    fig, ax = plt.subplots(figsize=(20, 1), dpi=100)\n",
    "        \n",
    "    # plot the line and the nodes\n",
    "    ax.set_xlim(-x[1]*0.5,1.1*x[-1])\n",
    "    ax.set_ylim(0,1)\n",
    "    ax.axis('off')\n",
    "    ax.plot([x[0],x[-1]],[y[0],y[-1]],'k')\n",
    "    ax.scatter(x,y,c='k')"
   ]
  },
  {
   "cell_type": "code",
   "execution_count": 14,
   "metadata": {},
   "outputs": [],
   "source": [
    "def airfoilTrueX(newX, xu, yu, xl, yl):\n",
    "    # get the interpolation functions for both surfaces\n",
    "    yuF = interp1d(xu, yu, kind='cubic')\n",
    "    ylF = interp1d(xl, yl, kind='cubic')\n",
    "    # evaluate the function in the new x-axis coordinates\n",
    "    yuAxis = yuF(newX)\n",
    "    ylAxis = ylF(newX)\n",
    "    # return the new y-axis coordinates referred to newX\n",
    "    return yuAxis, ylAxis"
   ]
  },
  {
   "cell_type": "code",
   "execution_count": 15,
   "metadata": {},
   "outputs": [],
   "source": [
    "def BLcalculator(target_yplus, U, L, mu, rho, flow, expansionRatio, NoLayers, length, totalCells, grid_dir, outerYgrad):\n",
    "    # calculator of the boundary layer parameters from the different values\n",
    "\n",
    "    # computation of the Reynolds number\n",
    "    Re = (rho*U*L)/(mu)\n",
    "\n",
    "    # external flow friction coefficient\n",
    "    if flow == 'e':\n",
    "        cf = 0.058*Re**(-0.2)\n",
    "    # internal flow friction coefficient\n",
    "    else:\n",
    "        cf = 0.079*Re**(-0.25)\n",
    "\n",
    "    # height of the first cell\n",
    "    dy1 = target_yplus*mu/(rho*np.sqrt(0.5*cf*U**2))\n",
    "    \n",
    "    # preallocation of space for the location of each layer\n",
    "    layerSize = dy1*np.ones(NoLayers)\n",
    "\n",
    "    # computation of the height of each layer\n",
    "    for i in range (1, NoLayers):\n",
    "        layerSize[i] = layerSize[i-1]*expansionRatio\n",
    "\n",
    "    # cumulative sum of the size of the layers, giving the total y coordinate\n",
    "    yCoord = np.cumsum(layerSize)\n",
    "    \n",
    "    # length of the boundary layer\n",
    "    BL_length = yCoord[-1]\n",
    "    # expansion ration of the boundary layer for blockMesh\n",
    "    bm_expRatio = expansionRatio**(NoLayers-1)\n",
    "    \n",
    "    # if the grid is oriented towards the surface\n",
    "    if grid_dir == 't':\n",
    "        # percentage of the length is divided as\n",
    "        perc = np.array([BL_length/length, 1-BL_length/length])\n",
    "        #  number of cells is divided as\n",
    "        cells = np.array([NoLayers/totalCells, (totalCells-NoLayers)/totalCells])\n",
    "        # expansion ratio\n",
    "        exp = np.array([bm_expRatio, outerYgrad])\n",
    "    # if it is oriented away from it\n",
    "    else:\n",
    "        # percentage of the length is divided as    \n",
    "        perc = np.array([1-BL_length/length, BL_length/length])\n",
    "        #  number of cells is divided as\n",
    "        cells = np.array([(totalCells-NoLayers)/totalCells, NoLayers/totalCells])\n",
    "        # expansion ratio\n",
    "        exp = np.array([outerYgrad, bm_expRatio])\n",
    "    \n",
    "    return perc, cells, exp"
   ]
  },
  {
   "cell_type": "markdown",
   "metadata": {},
   "source": [
    "# 2. Point calculations"
   ]
  },
  {
   "cell_type": "markdown",
   "metadata": {},
   "source": [
    "### 2.1. Spline points"
   ]
  },
  {
   "cell_type": "code",
   "execution_count": 16,
   "metadata": {},
   "outputs": [
    {
     "data": {
      "image/png": "[encoded data removed]",
      "text/plain": [
       "<matplotlib.figure.Figure at 0x7fc00bbd9f98>"
      ]
     },
     "metadata": {},
     "output_type": "display_data"
    },
    {
     "data": {
      "image/png": "[encoded data removed]",
      "text/plain": [
       "<matplotlib.figure.Figure at 0x7fc00bbd9a58>"
      ]
     },
     "metadata": {},
     "output_type": "display_data"
    }
   ],
   "source": [
    "# compute a finer axis for the profile spline than for the mesh \n",
    "xAxis = multi_grading(percentage, divisions, expansionR, 10*noPoints, chord)\n",
    "  \n",
    "# compute the points of the NACA profile\n",
    "xu, xl, yu, yl = NACA4(NACAtype, chord)\n",
    "\n",
    "# compute the NACA4 airfoil in the xAXis where it will intersect the mesh\n",
    "yuAxis, ylAxis = airfoilTrueX(xAxis, xu, yu, xl, yl)\n",
    "\n",
    "# some comprobations of the percentage array\n",
    "if any(np.isin(np.cumsum(percentage), percChord*np.ones(len(percentage)))) == False:\n",
    "    raise ValueError('Bad percentage array declaration')\n",
    "    \n",
    "if percentage[0]+percentage[1] != percChord:\n",
    "    raise ValueError('Bad percentage array declaration')\n",
    "    \n",
    "# plot the grading of the x-axis\n",
    "grading_plot(xAxis)"
   ]
  },
  {
   "cell_type": "markdown",
   "metadata": {},
   "source": [
    "### 2.2. Vertice points"
   ]
  },
  {
   "cell_type": "code",
   "execution_count": 17,
   "metadata": {},
   "outputs": [],
   "source": [
    "# compute the twelve points of the mesh for the initial block configuration\n",
    "zero = np.array([-Vspace, 0.0])\n",
    "one = np.array([1-chord, 0.0])\n",
    "two = np.array([1-chord+xAxis[(np.abs(xAxis-percChord*chord)).argmin()], yuAxis[(np.abs(xAxis-percChord*chord)).argmin()]])\n",
    "three = np.array([1-chord+xAxis[(np.abs(xAxis-percChord*chord)).argmin()], Vspace])\n",
    "four = np.array([1.0, Vspace])\n",
    "five = np.array([1.0, 0.0])\n",
    "six = np.array([wake, Vspace])\n",
    "seven = np.array([wake, 0.0])\n",
    "eight = np.array([wake, -Vspace])\n",
    "nine = np.array([1.0, -Vspace])\n",
    "ten = np.array([1-chord+xAxis[(np.abs(xAxis-percChord*chord)).argmin()], -Vspace])\n",
    "eleven = np.array([1-chord+xAxis[(np.abs(xAxis-percChord*chord)).argmin()], ylAxis[(np.abs(xAxis-percChord*chord)).argmin()]])"
   ]
  },
  {
   "cell_type": "markdown",
   "metadata": {},
   "source": [
    "### 2.3. Expansion ratios"
   ]
  },
  {
   "cell_type": "code",
   "execution_count": 18,
   "metadata": {},
   "outputs": [],
   "source": [
    "# compute the percentage of length, cells and expansion ratios of the boundary layer\n",
    "percYdir, cellsYdir, expYdir = BLcalculator(target_yplus, U, chord, mu, rho, 'e', expansionRatioYdir, NoLayers, Vspace, yCells, 't', yGradingOutflow)"
   ]
  },
  {
   "cell_type": "markdown",
   "metadata": {},
   "source": [
    "### 2.4. Blocks definition"
   ]
  },
  {
   "cell_type": "code",
   "execution_count": 19,
   "metadata": {},
   "outputs": [],
   "source": [
    "# class to order a little the code\n",
    "class blocksClass:\n",
    "     def __init__(self, nodes, cellNo, grading):\n",
    "        self.nodes = nodes\n",
    "        self.cells = cellNo\n",
    "        self.grading = grading"
   ]
  },
  {
   "cell_type": "code",
   "execution_count": 20,
   "metadata": {},
   "outputs": [],
   "source": [
    "# definition of the nodes of the 6 blocks\n",
    "nodes = np.array([[1,2,3,0,13,14,15,12],      # block0\n",
    "                 [2,5,4,3,14,17,16,15],       # block1\n",
    "                 [5,7,6,4,17,19,18,16],       # block2\n",
    "                 [13,23,22,12,1,11,10,0],     # block3\n",
    "                 [23,17,21,22,11,5,9,10],     # block4\n",
    "                 [17,19,20,21,5,7,8,9]])      # block5\n",
    "\n",
    "# number of cells for each block\n",
    "cellsNo = np.array([[inflowXcells, yCells, zCells],     # block0\n",
    "                  [middleXcells, yCells, zCells],       # block1\n",
    "                  [outflowXcells, yCells, zCells],      # block2\n",
    "                  [inflowXcells, yCells, zCells],       # block3\n",
    "                  [middleXcells, yCells, zCells],       # block4\n",
    "                  [outflowXcells, yCells, zCells]])     # block5\n",
    "\n",
    "# grading of each block\n",
    "grading = np.array([[[[percentage[0], divisions[0], expansionR[0]],[percentage[1], divisions[1], expansionR[1]]], [[percYdir[0], cellsYdir[0], expYdir[0]],[percYdir[1], cellsYdir[1], expYdir[1]]], 1],     # block0\n",
    "                   [[[percentage[2], divisions[2], expansionR[2]],[percentage[3], divisions[3], expansionR[3]]], [[percYdir[0], cellsYdir[0], expYdir[0]],[percYdir[1], cellsYdir[1], expYdir[1]]], 1],      # block1\n",
    "                   [xGradingOutflow, [[percYdir[0], cellsYdir[0], expYdir[0]],[percYdir[1], cellsYdir[1], expYdir[1]]], 1],                                                                                  # block2\n",
    "                   [[[percentage[0], divisions[0], expansionR[0]],[percentage[1], divisions[1], expansionR[1]]], [[percYdir[0], cellsYdir[0], expYdir[0]],[percYdir[1], cellsYdir[1], expYdir[1]]], 1],      # block3\n",
    "                   [[[percentage[2], divisions[2], expansionR[2]],[percentage[3], divisions[3], expansionR[3]]], [[percYdir[0], cellsYdir[0], expYdir[0]],[percYdir[1], cellsYdir[1], expYdir[1]]], 1],      # block4\n",
    "                   [xGradingOutflow, [[percYdir[0], cellsYdir[0], expYdir[0]],[percYdir[1], cellsYdir[1], expYdir[1]]], 1]])                                                                                 # block5\n",
    "\n",
    "# object creation\n",
    "blocks = blocksClass(nodes, cellsNo, grading)"
   ]
  },
  {
   "cell_type": "markdown",
   "metadata": {},
   "source": [
    "### 2.5. Arc edge"
   ]
  },
  {
   "cell_type": "code",
   "execution_count": 21,
   "metadata": {},
   "outputs": [],
   "source": [
    "# definition of the outer arc to go from a linear shape to a circular type inlet patch\n",
    "arc = np.array([Vspace*np.cos(np.deg2rad(45)), Vspace*np.sin(np.deg2rad(45))])"
   ]
  },
  {
   "cell_type": "markdown",
   "metadata": {},
   "source": [
    "### 2.6. Boundaries "
   ]
  },
  {
   "cell_type": "code",
   "execution_count": 22,
   "metadata": {},
   "outputs": [],
   "source": [
    "# creation of a class for the boundaries included in the blockMesh\n",
    "class boundaryClass:\n",
    "     def __init__(self, name, Btype, faceNo, faces):\n",
    "        self.name = name\n",
    "        self.type = Btype\n",
    "        self.faceNo = faceNo\n",
    "        self.faces = faces"
   ]
  },
  {
   "cell_type": "code",
   "execution_count": 23,
   "metadata": {},
   "outputs": [],
   "source": [
    "# name of the boundary\n",
    "boundName = np.array(['inlet', 'outlet', 'airfoil', 'frontAndBack'])\n",
    "# type of boundary\n",
    "boundType = np.array(['patch', 'patch', 'patch', 'empty'])\n",
    "# number of faces\n",
    "boundFaceNo = np.array([4, 4, 4, 12])\n",
    "# points that make up every face\n",
    "boundFaces = np.array([[[3, 15, 12, 0], [0, 12, 22, 10], [10, 22, 21, 9], [9, 21, 20, 8]],\n",
    "                      [[15, 3, 4, 16], [16, 4, 6, 18], [18, 6, 7, 19], [19, 7, 8, 20]], \n",
    "                      [[2, 14, 17, 5], [5, 17, 23, 11], [13, 1, 11, 23], [14, 2, 1, 13]],\n",
    "                      [[15, 14, 13, 12], [15, 16, 17, 14], [16, 18, 19, 17], [17, 19, 20, 21], [23, 17, 21, 22], [12, 13, 23, 22],\n",
    "                       [2, 3, 0, 1], [4, 3, 2, 5], [6, 4, 7, 5], [1, 0, 10, 11], [11, 10, 9, 5], [5, 9, 8, 7]]])\n",
    "# object creation\n",
    "boundary = boundaryClass(boundName, boundType, boundFaceNo, boundFaces)"
   ]
  },
  {
   "cell_type": "markdown",
   "metadata": {},
   "source": [
    "# 3. Header"
   ]
  },
  {
   "cell_type": "code",
   "execution_count": 24,
   "metadata": {},
   "outputs": [],
   "source": [
    "with open('./extMesh/system/blockMeshDict', 'a') as bMD:\n",
    "    bMD.write('/*--------------------------------*- C++ -*----------------------------------*\\ \\n')\n",
    "    bMD.write('| =========                 |                                                 | \\n')\n",
    "    bMD.write('| \\\\      /  F ield         | OpenFOAM: The Open Source CFD Toolbox           | \\n')\n",
    "    bMD.write('|  \\\\    /   O peration     | Version:  5                                     | \\n')\n",
    "    bMD.write('|   \\\\  /    A nd           | Web:      www.OpenFOAM.org                      | \\n')\n",
    "    bMD.write('|    \\\\/     M anipulation  |                                                 | \\n')\n",
    "    bMD.write('\\*---------------------------------------------------------------------------*/ \\n')\n",
    "    bMD.write('\\n')\n",
    "    bMD.write('FoamFile \\n')\n",
    "    bMD.write('{ \\n')\n",
    "    bMD.write('    version     2.0; \\n')\n",
    "    bMD.write('    format      ascii; \\n')\n",
    "    bMD.write('    class       dictionary; \\n')\n",
    "    bMD.write('    object      blockMeshDict;; \\n')\n",
    "    bMD.write('} \\n')\n",
    "    bMD.write('// * * * * * * * * * * * * * * * * * * * * * * * * * * * * * * * * * * * * * // \\n')\n",
    "    bMD.write('\\n')\n",
    "    bMD.write('convertToMeters 1; \\n')\n",
    "    bMD.write('\\n')"
   ]
  },
  {
   "cell_type": "markdown",
   "metadata": {},
   "source": [
    "# 4. Vertices"
   ]
  },
  {
   "cell_type": "code",
   "execution_count": 25,
   "metadata": {},
   "outputs": [],
   "source": [
    "with open('./extMesh/system/blockMeshDict', \"a\") as bMD:\n",
    "    bMD.write('vertices \\n')\n",
    "    bMD.write('( \\n')\n",
    "    bMD.write('    (%.8f %.8f %.8f) \\n' %(zero[0], zero[1], minZ))         #0\n",
    "    bMD.write('    (%.8f %.8f %.8f) \\n' %(one[0], one[1], minZ))           #1\n",
    "    bMD.write('    (%.8f %.8f %.8f) \\n' %(two[0], two[1], minZ))           #2\n",
    "    bMD.write('    (%.8f %.8f %.8f) \\n' %(three[0], three[1], minZ))       #3\n",
    "    bMD.write('    (%.8f %.8f %.8f) \\n' %(four[0], four[1], minZ))         #4\n",
    "    bMD.write('    (%.8f %.8f %.8f) \\n' %(five[0], five[1], minZ))         #5\n",
    "    bMD.write('    (%.8f %.8f %.8f) \\n' %(six[0], six[1], minZ))           #6\n",
    "    bMD.write('    (%.8f %.8f %.8f) \\n' %(seven[0], seven[1], minZ))       #7\n",
    "    bMD.write('    (%.8f %.8f %.8f) \\n' %(eight[0], eight[1], minZ))       #8\n",
    "    bMD.write('    (%.8f %.8f %.8f) \\n' %(nine[0], nine[1], minZ))         #9\n",
    "    bMD.write('    (%.8f %.8f %.8f) \\n' %(ten[0], ten[1], minZ))           #10\n",
    "    bMD.write('    (%.8f %.8f %.8f) \\n' %(eleven[0], eleven[1], minZ))     #11\n",
    "    bMD.write('    (%.8f %.8f %.8f) \\n' %(zero[0], zero[1], maxZ))         #12\n",
    "    bMD.write('    (%.8f %.8f %.8f) \\n' %(one[0], one[1], maxZ))           #13\n",
    "    bMD.write('    (%.8f %.8f %.8f) \\n' %(two[0], two[1], maxZ))           #14\n",
    "    bMD.write('    (%.8f %.8f %.8f) \\n' %(three[0], three[1], maxZ))       #15\n",
    "    bMD.write('    (%.8f %.8f %.8f) \\n' %(four[0], four[1], maxZ))         #16\n",
    "    bMD.write('    (%.8f %.8f %.8f) \\n' %(five[0], five[1], maxZ))         #17\n",
    "    bMD.write('    (%.8f %.8f %.8f) \\n' %(six[0], six[1], maxZ))           #18\n",
    "    bMD.write('    (%.8f %.8f %.8f) \\n' %(seven[0], seven[1], maxZ))       #19\n",
    "    bMD.write('    (%.8f %.8f %.8f) \\n' %(eight[0], eight[1], maxZ))       #20\n",
    "    bMD.write('    (%.8f %.8f %.8f) \\n' %(nine[0], nine[1], maxZ))         #21\n",
    "    bMD.write('    (%.8f %.8f %.8f) \\n' %(ten[0], ten[1], maxZ))           #22\n",
    "    bMD.write('    (%.8f %.8f %.8f) \\n' %(eleven[0], eleven[1], maxZ))     #23\n",
    "    bMD.write('); \\n')\n",
    "    bMD.write('\\n')"
   ]
  },
  {
   "cell_type": "markdown",
   "metadata": {},
   "source": [
    "# 5. Blocks"
   ]
  },
  {
   "cell_type": "code",
   "execution_count": 26,
   "metadata": {},
   "outputs": [],
   "source": [
    "with open('./extMesh/system/blockMeshDict', \"a\") as bMD:\n",
    "    bMD.write('blocks \\n')\n",
    "    bMD.write('( \\n')\n",
    "    for i in range(len(blocks.nodes)):\n",
    "        bMD.write('    hex (%i %i %i %i %i %i %i %i) (%i %i %i) simpleGrading\\n' %(blocks.nodes[i][0], blocks.nodes[i][1], \n",
    "                                                                                   blocks.nodes[i][2], blocks.nodes[i][3], \n",
    "                                                                                   blocks.nodes[i][4], blocks.nodes[i][5], \n",
    "                                                                                   blocks.nodes[i][6], blocks.nodes[i][7], \n",
    "                                                                                   blocks.cells[i][0], blocks.cells[i][1],\n",
    "                                                                                   blocks.cells[i][2]))\n",
    "        bMD.write('    ( \\n') \n",
    "        for j in range(len(blocks.grading[i])):\n",
    "            if isinstance(blocks.grading[i][j], int) == False:\n",
    "                bMD.write('     ( \\n')    \n",
    "                for k in range(len(blocks.grading[i][j])):\n",
    "                    bMD.write('     (%.3f %.3f %.3f) \\n' %(blocks.grading[i][j][k][0], blocks.grading[i][j][k][1], blocks.grading[i][j][k][2]))\n",
    "                bMD.write('     ) \\n')\n",
    "            else:\n",
    "                bMD.write('    %.3f \\n' %(blocks.grading[i][j]))\n",
    "        bMD.write('    ) \\n')\n",
    "    bMD.write('); \\n')\n",
    "    bMD.write('\\n')"
   ]
  },
  {
   "cell_type": "markdown",
   "metadata": {},
   "source": [
    "# 6. Edges"
   ]
  },
  {
   "cell_type": "code",
   "execution_count": 27,
   "metadata": {},
   "outputs": [],
   "source": [
    "with open('./extMesh/system/blockMeshDict', \"a\") as bMD:\n",
    "    bMD.write('edges \\n')\n",
    "    bMD.write('( \\n')\n",
    "    bMD.write('    arc 0 3   (%.8f %.8f %.8f) \\n' %(-arc[0], arc[1], minZ))\n",
    "    bMD.write('    arc 12 15 (%.8f %.8f %.8f) \\n' %(-arc[0], arc[1], maxZ))\n",
    "    bMD.write('    arc 0 10  (%.8f %.8f %.8f) \\n' %(-arc[0], -arc[1], minZ))    \n",
    "    bMD.write('    arc 12 22 (%.8f %.8f %.8f) \\n' %(-arc[0], -arc[1], maxZ))\n",
    "\n",
    "    bMD.write('    spline 1 11 ( \\n')\n",
    "    for i in range((np.abs(xAxis-percChord*chord)).argmin()):\n",
    "        bMD.write('        (%.8f %.8f %.8f) \\n' %(xAxis[i], ylAxis[i], minZ))\n",
    "    bMD.write('        ) \\n')\n",
    "\n",
    "    bMD.write('    spline 1 2 ( \\n')\n",
    "    for i in range((np.abs(xAxis-percChord*chord)).argmin()):\n",
    "        bMD.write('        (%.8f %.8f %.8f) \\n' %(xAxis[i], yuAxis[i], minZ))\n",
    "    bMD.write('        ) \\n')\n",
    "    \n",
    "    bMD.write('    spline 11 5 ( \\n')\n",
    "    for i in range((np.abs(xAxis-percChord*chord)).argmin(), len(xAxis)):\n",
    "        bMD.write('        (%.8f %.8f %.8f) \\n' %(xAxis[i], ylAxis[i], minZ))\n",
    "    bMD.write('        ) \\n')\n",
    "    \n",
    "    bMD.write('    spline 2 5 ( \\n')\n",
    "    for i in range((np.abs(xAxis-percChord*chord)).argmin(), len(xAxis)):\n",
    "        bMD.write('        (%.8f %.8f %.8f) \\n' %(xAxis[i], yuAxis[i], minZ))\n",
    "    bMD.write('        ) \\n')\n",
    "\n",
    "    bMD.write('    spline 13 23 ( \\n')\n",
    "    for i in range((np.abs(xAxis-percChord*chord)).argmin()):\n",
    "        bMD.write('        (%.8f %.8f %.8f) \\n' %(xAxis[i], ylAxis[i], maxZ))\n",
    "    bMD.write('        ) \\n')\n",
    "\n",
    "    bMD.write('    spline 13 14 ( \\n')\n",
    "    for i in range((np.abs(xAxis-percChord*chord)).argmin()):\n",
    "        bMD.write('        (%.8f %.8f %.8f) \\n' %(xAxis[i], yuAxis[i], maxZ))\n",
    "    bMD.write('        ) \\n')\n",
    "    \n",
    "    bMD.write('    spline 23 17 ( \\n')\n",
    "    for i in range((np.abs(xAxis-percChord*chord)).argmin(), len(xAxis)):\n",
    "        bMD.write('        (%.8f %.8f %.8f) \\n' %(xAxis[i], ylAxis[i], maxZ))\n",
    "    bMD.write('        ) \\n')\n",
    "    \n",
    "    bMD.write('    spline 14 17 ( \\n')\n",
    "    for i in range((np.abs(xAxis-percChord*chord)).argmin(), len(xAxis)):\n",
    "        bMD.write('        (%.8f %.8f %.8f) \\n' %(xAxis[i], yuAxis[i], maxZ))\n",
    "    bMD.write('        ) \\n')  \n",
    "    \n",
    "    bMD.write('); \\n')\n",
    "    bMD.write('\\n')\n"
   ]
  },
  {
   "cell_type": "code",
   "execution_count": 28,
   "metadata": {
    "scrolled": true
   },
   "outputs": [
    {
     "data": {
      "image/png": "[encoded data removed]",
      "text/plain": [
       "<matplotlib.figure.Figure at 0x7fc019c14eb8>"
      ]
     },
     "metadata": {},
     "output_type": "display_data"
    }
   ],
   "source": [
    "fig, ax1 = plt.subplots(1, figsize = ((20,3)))\n",
    "# figure with the points that will be represented\n",
    "ax1.plot(xAxis, ylAxis, '.r')\n",
    "ax1.plot(xAxis, yuAxis, '.b')\n",
    "ax1.axis('off');"
   ]
  },
  {
   "cell_type": "markdown",
   "metadata": {},
   "source": [
    "# 7. Boundary"
   ]
  },
  {
   "cell_type": "code",
   "execution_count": 29,
   "metadata": {},
   "outputs": [],
   "source": [
    "with open('./extMesh/system/blockMeshDict', \"a\") as bMD:\n",
    "    bMD.write('boundary \\n')\n",
    "    bMD.write('( \\n')\n",
    "    for i in range(len(boundary.name)):\n",
    "        bMD.write('    %s \\n' %boundary.name[i])\n",
    "        bMD.write('    { \\n')\n",
    "        bMD.write('        type %s; \\n' %boundary.type[i])\n",
    "        bMD.write('        faces \\n')\n",
    "        bMD.write('        ( \\n')\n",
    "        for j in range(boundary.faceNo[i]):\n",
    "            bMD.write('            (%i %i %i %i) \\n' %(boundary.faces[i][j][0], boundary.faces[i][j][1], boundary.faces[i][j][2], boundary.faces[i][j][3]))\n",
    "        bMD.write('        ); \\n')\n",
    "        bMD.write('    } \\n')\n",
    "    bMD.write('); \\n')"
   ]
  },
  {
   "cell_type": "markdown",
   "metadata": {},
   "source": [
    "# 8. blockMesh and paraFoam"
   ]
  },
  {
   "cell_type": "code",
   "execution_count": 30,
   "metadata": {},
   "outputs": [
    {
     "name": "stdout",
     "output_type": "stream",
     "text": [
      "/*---------------------------------------------------------------------------*\\\n",
      "| =========                 |                                                 |\n",
      "| \\\\      /  F ield         | OpenFOAM: The Open Source CFD Toolbox           |\n",
      "|  \\\\    /   O peration     | Version:  5.x                                   |\n",
      "|   \\\\  /    A nd           | Web:      www.OpenFOAM.org                      |\n",
      "|    \\\\/     M anipulation  |                                                 |\n",
      "\\*---------------------------------------------------------------------------*/\n",
      "Build  : 5.x-197d9d3bf20a\n",
      "Exec   : blockMesh\n",
      "Date   : May 31 2018\n",
      "Time   : 19:24:42\n",
      "Host   : \"lenovoYoga\"\n",
      "PID    : 10703\n",
      "I/O    : uncollated\n",
      "Case   : /home/jlobatop/Documents/Thesis/senior-thesis/mesh-generation/extMesh\n",
      "nProcs : 1\n",
      "sigFpe : Enabling floating point exception trapping (FOAM_SIGFPE).\n",
      "fileModificationChecking : Monitoring run-time modified files using timeStampMaster (fileModificationSkew 10)\n",
      "allowSystemOperations : Allowing user-supplied system call operations\n",
      "\n",
      "// * * * * * * * * * * * * * * * * * * * * * * * * * * * * * * * * * * * * * //\n",
      "Create time\n",
      "\n",
      "Deleting polyMesh directory\n",
      "    \"/home/jlobatop/Documents/Thesis/senior-thesis/mesh-generation/extMesh/constant/polyMesh\"\n",
      "Creating block mesh from\n",
      "    \"/home/jlobatop/Documents/Thesis/senior-thesis/mesh-generation/extMesh/system/blockMeshDict\"\n",
      "Creating block edges\n",
      "No non-planar block faces defined\n",
      "Creating topology blocks\n",
      "Creating topology patches\n",
      "\n",
      "Creating block mesh topology\n",
      "\n",
      "Check topology\n",
      "\n",
      "\tBasic statistics\n",
      "\t\tNumber of internal faces : 6\n",
      "\t\tNumber of boundary faces : 24\n",
      "\t\tNumber of defined boundary faces : 24\n",
      "\t\tNumber of undefined boundary faces : 0\n",
      "\tChecking patch -> block consistency\n",
      "\n",
      "Creating block offsets\n",
      "Creating merge list .\n",
      "\n",
      "Creating polyMesh from blockMesh\n",
      "Creating patches\n",
      "Creating cells\n",
      "Creating points with scale 1\n",
      "    Block 0 cell size :\n",
      "        i : 0.00150846 .. 0.00812341\n",
      "        j : 0.000330547 .. 0.399227\n",
      "        k : 0.1 .. 0.1\n",
      "\n",
      "    Block 1 cell size :\n",
      "        i : 0.009548 .. 0.016031\n",
      "        j : 0.000323191 .. 0.390342\n",
      "        k : 0.1 .. 0.1\n",
      "\n",
      "    Block 2 cell size :\n",
      "        i : 0.0118812 .. 0.0237623\n",
      "        j : 0.000330547 .. 0.399227\n",
      "        k : 0.1 .. 0.1\n",
      "\n",
      "    Block 3 cell size :\n",
      "        i : 0.00158142 .. 0.00786785\n",
      "        j : 0.000330547 .. 0.399227\n",
      "        k : 0.1 .. 0.1\n",
      "\n",
      "    Block 4 cell size :\n",
      "        i : 0.00950039 .. 0.015951\n",
      "        j : 0.000326987 .. 0.394927\n",
      "        k : 0.1 .. 0.1\n",
      "\n",
      "    Block 5 cell size :\n",
      "        i : 0.0118812 .. 0.0237623\n",
      "        j : 0.000330547 .. 0.399227\n",
      "        k : 0.1 .. 0.1\n",
      "\n",
      "\n",
      "There are no merge patch pairs edges\n",
      "\n",
      "Writing polyMesh\n",
      "----------------\n",
      "Mesh Information\n",
      "----------------\n",
      "  boundingBox: (-3 -3.00844 0) (7 3.00844 0.1)\n",
      "  nPoints: 74820\n",
      "  nCells: 36800\n",
      "  nFaces: 147810\n",
      "  nInternalFaces: 72990\n",
      "----------------\n",
      "Patches\n",
      "----------------\n",
      "  patch 0 (start: 72990 size: 520) name: inlet\n",
      "  patch 1 (start: 73510 size: 480) name: outlet\n",
      "  patch 2 (start: 73990 size: 220) name: airfoil\n",
      "  patch 3 (start: 74210 size: 73600) name: frontAndBack\n",
      "\n",
      "End\n",
      "\n",
      "/*---------------------------------------------------------------------------*\\\n",
      "| =========                 |                                                 |\n",
      "| \\\\      /  F ield         | OpenFOAM: The Open Source CFD Toolbox           |\n",
      "|  \\\\    /   O peration     | Version:  5.x                                   |\n",
      "|   \\\\  /    A nd           | Web:      www.OpenFOAM.org                      |\n",
      "|    \\\\/     M anipulation  |                                                 |\n",
      "\\*---------------------------------------------------------------------------*/\n",
      "Build  : 5.x-197d9d3bf20a\n",
      "Exec   : checkMesh\n",
      "Date   : May 31 2018\n",
      "Time   : 19:24:43\n",
      "Host   : \"lenovoYoga\"\n",
      "PID    : 10704\n",
      "I/O    : uncollated\n",
      "Case   : /home/jlobatop/Documents/Thesis/senior-thesis/mesh-generation/extMesh\n",
      "nProcs : 1\n",
      "sigFpe : Enabling floating point exception trapping (FOAM_SIGFPE).\n",
      "fileModificationChecking : Monitoring run-time modified files using timeStampMaster (fileModificationSkew 10)\n",
      "allowSystemOperations : Allowing user-supplied system call operations\n",
      "\n",
      "// * * * * * * * * * * * * * * * * * * * * * * * * * * * * * * * * * * * * * //\n",
      "Create time\n",
      "\n",
      "--> FOAM Warning : \n",
      "    From function static Foam::instantList Foam::timeSelector::select0(Foam::Time&, const Foam::argList&)\n",
      "    in file db/Time/timeSelector.C at line 274\n",
      "    No time specified or available, selecting 'constant'\n",
      "Create polyMesh for time = constant\n",
      "\n",
      "Time = constant\n",
      "\n",
      "Mesh stats\n",
      "    points:           74820\n",
      "    internal points:  0\n",
      "    faces:            147810\n",
      "    internal faces:   72990\n",
      "    cells:            36800\n",
      "    faces per cell:   6\n",
      "    boundary patches: 4\n",
      "    point zones:      0\n",
      "    face zones:       0\n",
      "    cell zones:       0\n",
      "\n",
      "Overall number of cells of each type:\n",
      "    hexahedra:     36800\n",
      "    prisms:        0\n",
      "    wedges:        0\n",
      "    pyramids:      0\n",
      "    tet wedges:    0\n",
      "    tetrahedra:    0\n",
      "    polyhedra:     0\n",
      "\n",
      "Checking topology...\n",
      "    Boundary definition OK.\n",
      "    Cell to face addressing OK.\n",
      "    Point usage OK.\n",
      "    Upper triangular ordering OK.\n",
      "    Face vertices OK.\n",
      "    Number of regions: 1 (OK).\n",
      "\n",
      "Checking patch topology for multiply connected surfaces...\n",
      "    Patch               Faces    Points   Surface topology                  \n",
      "    inlet               520      1042     ok (non-closed singly connected)  \n",
      "    outlet              480      962      ok (non-closed singly connected)  \n",
      "    airfoil             220      440      ok (non-closed singly connected)  \n",
      "    frontAndBack        73600    74820    ok (non-closed singly connected)  \n",
      "\n",
      "Checking geometry...\n",
      "    Overall domain bounding box (-3 -3.00844 0) (7 3.00844 0.1)\n",
      "    Mesh has 2 geometric (non-empty/wedge) directions (1 1 0)\n",
      "    Mesh has 2 solution (non-empty) directions (1 1 0)\n",
      "    All edges aligned with or perpendicular to non-empty directions.\n",
      "    Boundary openness (-3.09251e-18 -6.81943e-18 -1.87679e-15) OK.\n",
      "    Max cell openness = 4.88088e-16 OK.\n",
      "    Max aspect ratio = 71.8879 OK.\n",
      "    Minimum face area = 3.96879e-07. Maximum face area = 0.0557547.  Face area magnitudes OK.\n",
      "    Min volume = 3.96879e-08. Max volume = 0.00557547.  Total volume = 5.60837.  Cell volumes OK.\n",
      "    Mesh non-orthogonality Max: 61.4193 average: 9.43089\n",
      "    Non-orthogonality check OK.\n",
      "    Face pyramids OK.\n",
      "    Max skewness = 0.299364 OK.\n",
      "    Coupled point location match (average 0) OK.\n",
      "\n",
      "Mesh OK.\n",
      "\n",
      "End\n",
      "\n",
      "Created temporary 'extMesh.OpenFOAM'\n",
      "I/O    : uncollated\n"
     ]
    }
   ],
   "source": [
    "%%bash\n",
    "cd extMesh/\n",
    "blockMesh\n",
    "checkMesh\n",
    "nohup paraFoam"
   ]
  }
 ],
 "metadata": {
  "kernelspec": {
   "display_name": "Python 3",
   "language": "python",
   "name": "python3"
  },
  "language_info": {
   "codemirror_mode": {
    "name": "ipython",
    "version": 3
   },
   "file_extension": ".py",
   "mimetype": "text/x-python",
   "name": "python",
   "nbconvert_exporter": "python",
   "pygments_lexer": "ipython3",
   "version": "3.6.1"
  }
 },
 "nbformat": 4,
 "nbformat_minor": 2
}
