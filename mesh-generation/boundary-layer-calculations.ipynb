{
 "cells": [
  {
   "cell_type": "code",
   "execution_count": 1,
   "metadata": {},
   "outputs": [],
   "source": [
    "%matplotlib inline\n",
    "import numpy as np\n",
    "import matplotlib.pyplot as plt"
   ]
  },
  {
   "cell_type": "markdown",
   "metadata": {},
   "source": [
    "# $y⁺$ and first cell calculations"
   ]
  },
  {
   "cell_type": "markdown",
   "metadata": {},
   "source": [
    "(The equations can be found at https://www.computationalfluiddynamics.com.au/tips-tricks-cfd-estimate-first-cell-height/)"
   ]
  },
  {
   "cell_type": "markdown",
   "metadata": {},
   "source": [
    "* Reynolds number:\n",
    "\n",
    "$$\n",
    "Re = \\frac{\\rho U L}{\\mu}\n",
    "$$\n",
    "\n",
    "* $y^+$ value:\n",
    "\n",
    "$$\n",
    "y^+=\\frac{\\rho U_\\tau (\\Delta y_1)}{\\mu}\n",
    "$$\n",
    "\n",
    "* Frictional velocity:\n",
    "\n",
    "$$\n",
    "U_\\tau = \\sqrt{\\frac{\\tau_w}{\\rho}}\n",
    "$$\n",
    "\n",
    "* Wall shear stress:\n",
    "\n",
    "$$\n",
    "\\tau_w = \\frac{1}{2} C_f \\rho U^2 \\text{where} \\begin{Bmatrix} \\text{Internal flows:} && C_f = 0.079 Re^{-0.25} \\\\ \\text{External flows:} && C_f = 0.058 Re^{-0.2} \\end{Bmatrix}\n",
    "$$\n",
    "\n",
    "Adding up everything, the resulting equation for the height of the first cell is:\n",
    "\n",
    "$$\n",
    "\\Delta y_1 = \\frac{y^+ \\mu}{\\rho \\sqrt{0.5 \\cdot C_f U^2}}\n",
    "$$"
   ]
  },
  {
   "cell_type": "code",
   "execution_count": 2,
   "metadata": {},
   "outputs": [],
   "source": [
    "# objective for y plus value\n",
    "target_yplus = 10\n",
    "# velocity of the inocming flow\n",
    "U = 10 # m/s\n",
    "# characteristic length\n",
    "L = 1 # m\n",
    "# kinematic density\n",
    "mu = 0.00001789 # Pa*s\n",
    "# density of the flow\n",
    "rho = 1.2 # kg*m-3\n",
    "# kind of flow\n",
    "flow = 'e' # 'i'(nternal) or 'e'(xternal)"
   ]
  },
  {
   "cell_type": "code",
   "execution_count": 3,
   "metadata": {},
   "outputs": [],
   "source": [
    "# computation of the Reynolds number\n",
    "Re = (rho*U*L)/(mu)\n",
    "\n",
    "# external flow friction coefficient\n",
    "if flow == 'e':\n",
    "    cf = 0.058*Re**(-0.2)\n",
    "# internal flow friction coefficient\n",
    "else:\n",
    "    cf = 0.079*Re**(-0.25)\n",
    "    \n",
    "# height of the first cell\n",
    "dy1 = target_yplus*mu/(rho*np.sqrt(0.5*cf*U**2))"
   ]
  },
  {
   "cell_type": "markdown",
   "metadata": {},
   "source": [
    "# Expansion ratio calculator"
   ]
  },
  {
   "cell_type": "markdown",
   "metadata": {},
   "source": [
    "The expansion ratio is usually defined with a geometric series:\n",
    "$$\n",
    "y_1 = a y_0, \\ ... \\ y_i = a y_{i-1}\n",
    "$$\n",
    "\n",
    "If the expansion ratio ($\\varepsilon$) and the number of layers are known, the different points of the layers can be computed."
   ]
  },
  {
   "cell_type": "code",
   "execution_count": 4,
   "metadata": {},
   "outputs": [],
   "source": [
    "# expansion ratio known as a if y1 = a*y0\n",
    "expansionRatio = 1.321\n",
    "# number of layer in the BL inflation\n",
    "NoLayers = 15"
   ]
  },
  {
   "cell_type": "code",
   "execution_count": 5,
   "metadata": {},
   "outputs": [],
   "source": [
    "# preallocation of space for the location of each layer\n",
    "layerSize = dy1*np.ones(NoLayers)\n",
    "\n",
    "# computation of the height of each layer\n",
    "for i in range (1, NoLayers):\n",
    "    layerSize[i] = layerSize[i-1]*expansionRatio\n",
    "\n",
    "# cumulative sum of the size of the layers, giving the total y coordinate\n",
    "yCoord = np.cumsum(layerSize)"
   ]
  },
  {
   "cell_type": "code",
   "execution_count": 6,
   "metadata": {
    "scrolled": true
   },
   "outputs": [
    {
     "data": {
      "image/png": "[encoded data removed]",
      "text/plain": [
       "<matplotlib.figure.Figure at 0x7fe66a765278>"
      ]
     },
     "metadata": {},
     "output_type": "display_data"
    }
   ],
   "source": [
    "# attempt to plot a boundary layer\n",
    "plt.plot([0,0],[0,yCoord[NoLayers-1]],'k',lw=0.5)\n",
    "plt.plot([0.1*yCoord[NoLayers-1],0.1*yCoord[NoLayers-1]],[0,yCoord[NoLayers-1]],'k',lw=0.5)\n",
    "plt.plot([0,0.1*yCoord[NoLayers-1]],[0,0],'k',lw=0.5)\n",
    "for i in range(NoLayers):\n",
    "    plt.plot([0,0.1*yCoord[NoLayers-1]],[yCoord[i],yCoord[i]],'k',lw=0.5)\n",
    "plt.xlim([-0.08*yCoord[NoLayers-1],0.18*yCoord[NoLayers-1]])\n",
    "plt.ylim([-0.2*yCoord[NoLayers-1],1.2*yCoord[NoLayers-1]])\n",
    "plt.axis('off');"
   ]
  },
  {
   "cell_type": "markdown",
   "metadata": {},
   "source": [
    "# Boundary layer approximation for blockMesh generated domains"
   ]
  },
  {
   "cell_type": "markdown",
   "metadata": {},
   "source": [
    "If the whole domain number of cells and the boundary layer divisions are known, the expansion ratio and percentage distribution can be computed. Using the equations (and some code) from [airfoil-parametrization/NACA4/NACA_4digit.ipynb](https://github.com/jlobatop/GA-CFD-MO/blob/master/airfoil-parametrization/NACA4/NACA_4digit.ipynb):\n",
    "\n",
    "$$\n",
    "\\varepsilon = a^{N-1}\n",
    "$$"
   ]
  },
  {
   "cell_type": "code",
   "execution_count": 7,
   "metadata": {},
   "outputs": [],
   "source": [
    "# length of the domain\n",
    "length = 1\n",
    "# number of cells (bigger than BL_cells)\n",
    "totalCells = 30\n",
    "# direction: 't' (towards the surface) or 'a' (away from the surface)\n",
    "grid_dir = 't'"
   ]
  },
  {
   "cell_type": "code",
   "execution_count": 8,
   "metadata": {},
   "outputs": [],
   "source": [
    "# length of the boundary layer\n",
    "BL_length = yCoord[-1]\n",
    "# expansion ration of the boundary layer for blockMesh\n",
    "bm_expRatio = expansionRatio**(NoLayers-1)"
   ]
  },
  {
   "cell_type": "code",
   "execution_count": 9,
   "metadata": {},
   "outputs": [],
   "source": [
    "# if the grid is oriented towards the surface\n",
    "if grid_dir == 't':\n",
    "    # percentage of the length is divided as\n",
    "    perc = np.array([BL_length/length, 1-BL_length/length])\n",
    "    #  number of cells is divided as\n",
    "    cells = np.array([NoLayers/totalCells, (totalCells-NoLayers)/totalCells])\n",
    "    # expansion ratio\n",
    "    exp = np.array([bm_expRatio, 1])\n",
    "# if it is oriented away from it\n",
    "else:\n",
    "    # percentage of the length is divided as    \n",
    "    perc = np.array([1-BL_length/length, BL_length/length])\n",
    "    #  number of cells is divided as\n",
    "    cells = np.array([(totalCells-NoLayers)/totalCells, NoLayers/totalCells])\n",
    "    # expansion ratio\n",
    "    exp = np.array([1, bm_expRatio])"
   ]
  },
  {
   "cell_type": "code",
   "execution_count": 10,
   "metadata": {},
   "outputs": [],
   "source": [
    "def simple_grading(N, expRatio, L):\n",
    "    # size of each cell array\n",
    "    delta = np.zeros(N) \n",
    "    # position of the nodes\n",
    "    nodes = np.zeros(N+1) \n",
    "\n",
    "    # value of k for all the line\n",
    "    kVal = expRatio**((1)/(N-1)) \n",
    "    # increment of k for each cell\n",
    "    k = np.zeros(N)\n",
    "\n",
    "    # compute that incremental k\n",
    "    for i in range(N):\n",
    "        k[i] = kVal**(i) \n",
    "\n",
    "    # first cell size \n",
    "    deltaS = L/np.sum(k)\n",
    "    # size of each cell\n",
    "    delta = deltaS*k \n",
    "    \n",
    "    # compute the location of the nodes\n",
    "    for i in range(N):\n",
    "        nodes[i+1] = nodes[i] + delta[i]\n",
    "\n",
    "    return nodes"
   ]
  },
  {
   "cell_type": "code",
   "execution_count": 11,
   "metadata": {},
   "outputs": [],
   "source": [
    "def grading_plot(x): #nodes is the input from simple_grading\n",
    "\n",
    "    # get a y-coordinate vector for the x-shape\n",
    "    y = 0.5*np.ones(np.shape(x)[0])\n",
    "    \n",
    "    # create the figure\n",
    "    fig, ax = plt.subplots(figsize=(20, 1), dpi=100)\n",
    "        \n",
    "    # plot the line and the nodes\n",
    "    ax.set_xlim(-x[1]*0.5,1.1*x[-1])\n",
    "    ax.set_ylim(0,1)\n",
    "    ax.axis('off')\n",
    "    ax.plot([x[0],x[-1]],[y[0],y[-1]],'k')\n",
    "    ax.scatter(x,y,c='k')"
   ]
  },
  {
   "cell_type": "code",
   "execution_count": 12,
   "metadata": {},
   "outputs": [],
   "source": [
    "def multi_grading(perc, cells, eps, N, L): \n",
    "    \n",
    "    # some initial shape and value comprobations\n",
    "    if np.sum(perc) != 1:\n",
    "        raise ValueError('Bad percentage array input')\n",
    "        return\n",
    "\n",
    "    if np.sum(cells) != 1:\n",
    "        raise ValueError('Bad cell array input')\n",
    "        return\n",
    "    \n",
    "    if np.shape(perc)[0] != np.shape(cells)[0] or np.shape(perc)[0] != np.shape(eps)[0] or np.shape(cells)[0] != np.shape(eps)[0]:\n",
    "        raise ValueError('Non equal vector definition')\n",
    "        return\n",
    "\n",
    "    # cells per segment\n",
    "    segmentN = (N*cells) \n",
    "\n",
    "    # in case there are decimal values\n",
    "    restCells = np.modf(segmentN)[0] \n",
    "\n",
    "    # integer value of the cells\n",
    "    segmentN = np.trunc(segmentN) \n",
    "    \n",
    "    # distribution of the 'decimal' parts of the cells\n",
    "    i = np.sum(restCells) \n",
    "\n",
    "    # compute the correct subdivisions of the cells\n",
    "    while i > 0:\n",
    "        segmentN[np.argmax(restCells)] = segmentN[np.argmax(restCells)] + int(i)\n",
    "        restCells[np.argmax(restCells)] = 0\n",
    "        i -= 1\n",
    "   \n",
    "    # length per segment\n",
    "    segmentL = (L*perc) \n",
    "\n",
    "    # number of nodes    \n",
    "    nodes = np.zeros(N+1)\n",
    "    \n",
    "    # compute the location of each node in the line\n",
    "    for i in range(np.shape(perc)[0]):\n",
    "        nodesTemp = simple_grading(int(segmentN[i]), eps[i], segmentL[i])\n",
    "        for j in range(np.shape(nodesTemp)[0]):\n",
    "            if i == 0:\n",
    "                nodes[j] = nodesTemp[j]\n",
    "            else:\n",
    "                nodes[int(np.cumsum(segmentN)[i-1]) + j] = nodesTemp[j] + nodes[int(np.cumsum(segmentN)[i-1])]\n",
    "\n",
    "    return nodes"
   ]
  },
  {
   "cell_type": "code",
   "execution_count": 13,
   "metadata": {},
   "outputs": [
    {
     "data": {
      "image/png": "[encoded data removed]",
      "text/plain": [
       "<matplotlib.figure.Figure at 0x7fe6686945c0>"
      ]
     },
     "metadata": {},
     "output_type": "display_data"
    }
   ],
   "source": [
    "grading_plot(multi_grading(perc, cells, exp, 30, 1))"
   ]
  },
  {
   "cell_type": "markdown",
   "metadata": {},
   "source": [
    "# Complete function integration"
   ]
  },
  {
   "cell_type": "code",
   "execution_count": 14,
   "metadata": {},
   "outputs": [],
   "source": [
    "def BLcalculator(target_yplus, U, L, mu, rho, flow, expansionRatio, NoLayers, length, totalCells, grid_dir):\n",
    "    # calculator of the boundary layer parameters from the different values\n",
    "    \n",
    "    # computation of the Reynolds number\n",
    "    Re = (rho*U*L)/(mu)\n",
    "\n",
    "    # external flow friction coefficient\n",
    "    if flow == 'e':\n",
    "        cf = 0.058*Re**(-0.2)\n",
    "    # internal flow friction coefficient\n",
    "    else:\n",
    "        cf = 0.079*Re**(-0.25)\n",
    "\n",
    "    # height of the first cell\n",
    "    dy1 = target_yplus*mu/(rho*np.sqrt(0.5*cf*U**2))\n",
    "    \n",
    "    # preallocation of space for the location of each layer\n",
    "    layerSize = dy1*np.ones(NoLayers)\n",
    "\n",
    "    # computation of the height of each layer\n",
    "    for i in range (1, NoLayers):\n",
    "        layerSize[i] = layerSize[i-1]*expansionRatio\n",
    "\n",
    "    # cumulative sum of the size of the layers, giving the total y coordinate\n",
    "    yCoord = np.cumsum(layerSize)\n",
    "    \n",
    "    # length of the boundary layer\n",
    "    BL_length = yCoord[-1]\n",
    "    # expansion ration of the boundary layer for blockMesh\n",
    "    bm_expRatio = expansionRatio**(NoLayers-1)\n",
    "    \n",
    "    # if the grid is oriented towards the surface\n",
    "    if grid_dir == 't':\n",
    "        # percentage of the length is divided as\n",
    "        perc = np.array([BL_length/length, 1-BL_length/length])\n",
    "        #  number of cells is divided as\n",
    "        cells = np.array([NoLayers/totalCells, (totalCells-NoLayers)/totalCells])\n",
    "        # expansion ratio\n",
    "        exp = np.array([bm_expRatio, 1])\n",
    "    # if it is oriented away from it\n",
    "    else:\n",
    "        # percentage of the length is divided as    \n",
    "        perc = np.array([1-BL_length/length, BL_length/length])\n",
    "        #  number of cells is divided as\n",
    "        cells = np.array([(totalCells-NoLayers)/totalCells, NoLayers/totalCells])\n",
    "        # expansion ratio\n",
    "        exp = np.array([1, bm_expRatio])\n",
    "    \n",
    "    return perc, cells, exp"
   ]
  }
 ],
 "metadata": {
  "kernelspec": {
   "display_name": "Python 3",
   "language": "python",
   "name": "python3"
  },
  "language_info": {
   "codemirror_mode": {
    "name": "ipython",
    "version": 3
   },
   "file_extension": ".py",
   "mimetype": "text/x-python",
   "name": "python",
   "nbconvert_exporter": "python",
   "pygments_lexer": "ipython3",
   "version": "3.6.1"
  }
 },
 "nbformat": 4,
 "nbformat_minor": 2
}
