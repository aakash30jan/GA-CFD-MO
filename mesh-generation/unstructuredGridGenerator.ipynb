{
 "cells": [
  {
   "cell_type": "code",
   "execution_count": 1,
   "metadata": {},
   "outputs": [],
   "source": [
    "%matplotlib inline\n",
    "import numpy as np\n",
    "import matplotlib.pyplot as plt\n",
    "import os"
   ]
  },
  {
   "cell_type": "markdown",
   "metadata": {},
   "source": [
    "# 0. Folder creation"
   ]
  },
  {
   "cell_type": "code",
   "execution_count": 2,
   "metadata": {},
   "outputs": [],
   "source": [
    "%%bash\n",
    "# bash scrpting cell inside Jupyter\n",
    "# structured mesh should be located on str_uns/structuredMesh \n",
    "\n",
    "# if the directory doesn't exists, create it\n",
    "if [ ! -d \"./str_uns\" ]; then\n",
    "  mkdir str_uns\n",
    "fi\n",
    "\n",
    "# ensure that the structured mesh exists\n",
    "if [ ! -d \"./str_uns/structuredMesh\" ]; then\n",
    "    echo \"NON STRUCTURED MESH to convert\"\n",
    "    exit 0\n",
    "fi\n",
    "\n",
    "# remove the directory of a previously unstructured mesh\n",
    "if [ -d \"./str_uns/unstructuredMesh\" ]; then\n",
    "    rm str_uns/unstructuredMesh -r\n",
    "    cp str_uns/structuredMesh str_uns/unstructuredMesh -r\n",
    "fi\n",
    "\n",
    "# or create the directory if it doesn't exist\n",
    "if [ ! -d \"str_uns/unstructuredMesh\" ]; then\n",
    "  cp str_uns/structuredMesh str_uns/unstructuredMesh -r\n",
    "fi"
   ]
  },
  {
   "cell_type": "markdown",
   "metadata": {},
   "source": [
    "# 1. Data input - point adquisition"
   ]
  },
  {
   "cell_type": "code",
   "execution_count": 3,
   "metadata": {},
   "outputs": [],
   "source": [
    "# import the points file from the structured mesh\n",
    "filename = './str_uns/structuredMesh/constant/polyMesh/points'\n",
    "file = open(filename, \"r\")\n",
    "points_str = file.read()\n",
    "\n",
    "# go back two spaces in the file ('\\n')\n",
    "i = 2\n",
    "\n",
    "# variable to store the number of points\n",
    "pointsNo = 0\n",
    "\n",
    "# go from  the first parenthesis backwards\n",
    "while points_str[points_str.find('(')-i] != '\\n':\n",
    "    # if the spaces to go backwards are just two\n",
    "    if i == 2:\n",
    "        # just take the number\n",
    "        pointsNo = int(points_str[points_str.find('(')-i])\n",
    "    # if the spaces to go backwards are more than two\n",
    "    else:\n",
    "        # take the number of points and add the new number times 10**(i-2)\n",
    "        pointsNo = pointsNo + int(points_str[points_str.find('(')-i]) * 10**(i-2)\n",
    "    # go backwards another position\n",
    "    i += 1\n",
    "    \n",
    "# preallocate space for the points\n",
    "points = np.zeros((pointsNo, 3))"
   ]
  },
  {
   "cell_type": "code",
   "execution_count": 4,
   "metadata": {},
   "outputs": [],
   "source": [
    "arrayPos = 0\n",
    "tempPos = 0\n",
    "negVal = 0\n",
    "decimal = 0\n",
    "engExp = 0\n",
    "\n",
    "for i in range(points_str.find('(')+1, len(points_str)):\n",
    "    #First element of each line resets the temporal points\n",
    "    if points_str[i] == '(':\n",
    "        tempPoints = np.zeros(3)\n",
    "    #End element of each line transfer the elements to the big array, resets tempPos and advance 1 in arrayPos\n",
    "    elif points_str[i] == ')':\n",
    "        points[arrayPos,:] = tempPoints\n",
    "        arrayPos += 1\n",
    "        tempPos = 0\n",
    "    #An space will do nothing for the moment!\n",
    "    elif points_str[i] == ' ' :\n",
    "        pass;\n",
    "    #New line will do nothing! - except if it arrives to the end of the string it will encounter ) \\n ) \n",
    "    elif points_str[i] == '\\n':\n",
    "        if points_str[i-1] == ')' and points_str[i] == '\\n' and points_str[i+1] == ')':\n",
    "            break;\n",
    "    #Minus sign will do nothing (for the moment!)\n",
    "    elif points_str[i] == '-':\n",
    "        if engExp == 0:\n",
    "            negVal = 1\n",
    "    #Period will do nothing (for the moment!)\n",
    "    elif points_str[i] == '.':\n",
    "        decimal = 1;\n",
    "    #Engineering notation\n",
    "    elif points_str[i] == 'e':\n",
    "        if points_str[i+1] == '-':\n",
    "            engExp = - (10 * int(points_str[i+2]) + int(points_str[i+3]))\n",
    "        else:\n",
    "            engExp = (10 * int(points_str[i+2]) + int(points_str[i+3]))\n",
    "    #If the element is a number...\n",
    "    else:\n",
    "        if engExp == 0:            \n",
    "            #if it is zero we are still on the natural part of the number\n",
    "            if decimal == 0:    \n",
    "                tempPoints[tempPos] = 10*tempPoints[tempPos]+int(points_str[i])\n",
    "            #if the decimal variable is not zero\n",
    "            if decimal >= 1:\n",
    "                #If the next element of the string is a space or a ), the number will be completed\n",
    "                if points_str[i+1] == ' ' or points_str[i+1] == ')':\n",
    "                    tempPoints[tempPos] = tempPoints[tempPos]+int(points_str[i])*10**(-decimal)\n",
    "                    decimal = 0\n",
    "                #If it is a number\n",
    "                else: \n",
    "                    tempPoints[tempPos] = tempPoints[tempPos]+int(points_str[i])*10**(-decimal)\n",
    "                    decimal += 1\n",
    "            #If the next element is a space...\n",
    "            if points_str[i+1] == ' ' :\n",
    "                #... and a negative sign was found, it should multiply now by -1 and advance one position...\n",
    "                if negVal == 1:\n",
    "                    tempPoints[tempPos] *= -1\n",
    "                    tempPos += 1\n",
    "                    negVal = 0\n",
    "                #... otherwise it will just advance one position\n",
    "                else:\n",
    "                    tempPos += 1\n",
    "        else:\n",
    "            if points_str[i+1] == ' ' :\n",
    "                #... and a negative sign was found, it should multiply now by -1 and advance one position...\n",
    "                if negVal == 1:\n",
    "                    tempPoints[tempPos] *= -1*10**(engExp)\n",
    "                    tempPos += 1\n",
    "                    negVal = 0\n",
    "                    engExp = 0\n",
    "                #... otherwise it will just advance one position\n",
    "                else:\n",
    "                    tempPoints[tempPos] *= -1*10**(engExp)\n",
    "                    tempPos += 1 \n",
    "                    engExp = 0"
   ]
  },
  {
   "cell_type": "markdown",
   "metadata": {},
   "source": [
    "# 2. Grid conversion"
   ]
  },
  {
   "cell_type": "markdown",
   "metadata": {},
   "source": [
    "Select the bounding box within the unstructured grid will be computed. There are two options for selecting where the operation will be performed:\n",
    "* The whole range of the grid is selected\n",
    "* The range is specified with two values\n",
    "\n",
    "One of the two options must be selected for every axis."
   ]
  },
  {
   "cell_type": "code",
   "execution_count": 5,
   "metadata": {},
   "outputs": [],
   "source": [
    "# get the maximum and minimum (if the whole axis grids is selected)\n",
    "# Xmax = np.max(points[:,0])\n",
    "# Xmin = np.min(points[:,0])\n",
    "Ymax = np.max(points[:,1])\n",
    "Ymin = np.min(points[:,1])\n",
    "Zmax = np.max(points[:,2])\n",
    "Zmin = np.min(points[:,2])\n",
    "\n",
    "# specify the ranges (if not the whole grid is selected)\n",
    "Xmax = 10\n",
    "Xmin = 1\n",
    "# Ymax = \n",
    "# Ymin = \n",
    "# Zmax = \n",
    "# Zmin = "
   ]
  },
  {
   "cell_type": "code",
   "execution_count": 6,
   "metadata": {},
   "outputs": [],
   "source": [
    "# distance factor to restrict the maximum displacement of the points\n",
    "# tune up the value according to the size of the cells\n",
    "k = 0.05"
   ]
  },
  {
   "cell_type": "code",
   "execution_count": 7,
   "metadata": {},
   "outputs": [],
   "source": [
    "# copy the points for the unstructured grid \n",
    "unstrPoints = np.copy(points)\n",
    "\n",
    "# boolean matrix for the minimum z-coordinate plane\n",
    "frontPoints = points[:,2] == Zmin\n",
    "\n",
    "# boolean matrix for the maximum z-coordinate plane\n",
    "backPoints = points[:,2] == Zmax\n",
    "\n",
    "# the size of the front and back plane should be the same\n",
    "if np.shape(points[frontPoints,:]) != np.shape(points[backPoints,:]):\n",
    "    raise ValueError('Front and back plane does not have the same size')"
   ]
  },
  {
   "cell_type": "code",
   "execution_count": 8,
   "metadata": {
    "scrolled": false
   },
   "outputs": [],
   "source": [
    "# slightly perturb the points of the structured mesh to get the unstructured\n",
    "for i in np.nditer(np.where(frontPoints)):\n",
    "    # if the point is within bounds\n",
    "    if Xmax > points[i,0] > Xmin and Ymax > points[i,1] > Ymin:\n",
    "        # compute the distance from every point to i-th point\n",
    "        # retain just the 8 closest (4 front plane & 4 back plane)\n",
    "        # neglecting the same point and its projection (going from 2 to 10)\n",
    "        vec = np.sqrt((points[:,0]-points[i,0])**2+(points[:,1]-points[i,1])**2).argsort()[2:10]\n",
    "        # obtain the backPlane point which corresponds to the i-th point\n",
    "        if np.sqrt((points[:,0]-points[i,0])**2+(points[:,1]-points[i,1])**2).argsort()[1] == i:\n",
    "            backPoint = np.sqrt((points[:,0]-points[i,0])**2+(points[:,1]-points[i,1])**2).argsort()[0]  \n",
    "        else:\n",
    "            backPoint = np.sqrt((points[:,0]-points[i,0])**2+(points[:,1]-points[i,1])**2).argsort()[1]\n",
    "        # separate them between front and back plane\n",
    "        frontVec = vec[points[vec,2] == Zmin]\n",
    "        # a estimation of the zone in which the i-th point can move are\n",
    "        maxX = max(points[frontVec,0])\n",
    "        maxY = max(points[frontVec,1])\n",
    "        minX = min(points[frontVec,0])\n",
    "        minY = min(points[frontVec,1])\n",
    "        # compute the variation in both x and y components\n",
    "        varX = np.random.normal(0, k*abs(minX-maxX))\n",
    "        varY = np.random.normal(0, k*abs(minY-maxY))\n",
    "        # store the point with the perturbation in the new array\n",
    "        unstrPoints[i,0] = points[i,0]+varX\n",
    "        unstrPoints[i,1] = points[i,1]+varY\n",
    "        unstrPoints[backPoint,0] = points[backPoint,0]+varX\n",
    "        unstrPoints[backPoint,1] = points[backPoint,1]+varY"
   ]
  },
  {
   "cell_type": "code",
   "execution_count": 9,
   "metadata": {
    "scrolled": false
   },
   "outputs": [
    {
     "data": {
      "image/png": "[encoded data removed]",
      "text/plain": [
       "<matplotlib.figure.Figure at 0x7fb8b0c59588>"
      ]
     },
     "metadata": {},
     "output_type": "display_data"
    }
   ],
   "source": [
    "fig, ax1 = plt.subplots(1, figsize=(26,20), dpi = 50)\n",
    "\n",
    "# go through all points in the front plane\n",
    "for i in np.nditer(np.where(frontPoints)):\n",
    "    # location of the older points\n",
    "    if Xmax > points[i,0] > Xmin and Ymax > points[i,1] > Ymin:\n",
    "        ax1.plot(points[i,0], points[i,1], 'ko', markersize=6)\n",
    "    # unperturbed points\n",
    "    else:\n",
    "        ax1.plot(points[i,0], points[i,1], 'bs')\n",
    "    # new location of the perturbed points\n",
    "    if Xmax > unstrPoints[i,0] > Xmin and Ymax > unstrPoints[i,1] > Ymin:\n",
    "        ax1.plot(unstrPoints[i,0], unstrPoints[i,1], 'ro', markersize=4)\n",
    "    # just to make sure that points that are out bounds haven't been perturbed\n",
    "    else:\n",
    "        ax1.plot(unstrPoints[i,0], unstrPoints[i,1], 'bs')\n",
    "# hide axis for aesthetic reasons\n",
    "ax1.axis('off');"
   ]
  },
  {
   "cell_type": "markdown",
   "metadata": {},
   "source": [
    "# 3. Point saving"
   ]
  },
  {
   "cell_type": "code",
   "execution_count": 10,
   "metadata": {},
   "outputs": [],
   "source": [
    "%%bash\n",
    "# delete the points file of the unstructured mesh\n",
    "rm ./str_uns/unstructuredMesh/constant/polyMesh/points"
   ]
  },
  {
   "cell_type": "code",
   "execution_count": 11,
   "metadata": {
    "scrolled": false
   },
   "outputs": [],
   "source": [
    "# store the new points in the corresponding file\n",
    "with open('./str_uns/unstructuredMesh/constant/polyMesh/points', 'a') as uPF: \n",
    "    # uPF stands for unstructuredPointFile\n",
    "    uPF.write('/*--------------------------------*- C++ -*----------------------------------*\\ \\n')\n",
    "    uPF.write('| =========                 |                                                 | \\n')\n",
    "    uPF.write('| \\\\      /  F ield         | OpenFOAM: The Open Source CFD Toolbox           | \\n')\n",
    "    uPF.write('|  \\\\    /   O peration     | Version:  5.x                                   | \\n')\n",
    "    uPF.write('|   \\\\  /    A nd           | Web:      www.OpenFOAM.org                      | \\n')\n",
    "    uPF.write('|    \\\\/     M anipulation  |                                                 | \\n')\n",
    "    uPF.write('\\*---------------------------------------------------------------------------*/ \\n')\n",
    "    uPF.write('FoamFile \\n')\n",
    "    uPF.write('{ \\n')\n",
    "    uPF.write('    version     2.0; \\n')\n",
    "    uPF.write('    format      ascii; \\n')\n",
    "    uPF.write('    class       vectorField; \\n')\n",
    "    uPF.write('    location    \"constant/polyMesh\"; \\n')\n",
    "    uPF.write('    object      points; \\n')\n",
    "    uPF.write('} \\n')\n",
    "    uPF.write('// * * * * * * * * * * * * * * * * * * * * * * * * * * * * * * * * * * * * * // \\n')\n",
    "    uPF.write('\\n')\n",
    "    uPF.write('%i \\n' %(pointsNo))\n",
    "    uPF.write('(')\n",
    "    for i in range(pointsNo):\n",
    "        uPF.write('(%.6f %.6f %.6f) \\n' %(unstrPoints[i,0], unstrPoints[i,1], unstrPoints[i,2]))        \n",
    "    uPF.write(')')"
   ]
  },
  {
   "cell_type": "code",
   "execution_count": 12,
   "metadata": {},
   "outputs": [
    {
     "name": "stdout",
     "output_type": "stream",
     "text": [
      "Created temporary 'unstructuredMesh.OpenFOAM'\n",
      "I/O    : uncollated\n"
     ]
    }
   ],
   "source": [
    "%%bash\n",
    "# check the mesh and run paraFoam\n",
    "cd str_uns/unstructuredMesh/\n",
    "checkMesh > /dev/null\n",
    "paraFoam"
   ]
  }
 ],
 "metadata": {
  "kernelspec": {
   "display_name": "Python 3",
   "language": "python",
   "name": "python3"
  },
  "language_info": {
   "codemirror_mode": {
    "name": "ipython",
    "version": 3
   },
   "file_extension": ".py",
   "mimetype": "text/x-python",
   "name": "python",
   "nbconvert_exporter": "python",
   "pygments_lexer": "ipython3",
   "version": "3.6.1"
  }
 },
 "nbformat": 4,
 "nbformat_minor": 2
}
