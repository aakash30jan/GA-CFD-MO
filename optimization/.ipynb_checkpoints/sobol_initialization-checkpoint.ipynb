{
 "cells": [
  {
   "cell_type": "code",
   "execution_count": 5,
   "metadata": {},
   "outputs": [],
   "source": [
    "%matplotlib inline\n",
    "#Importing required modules\n",
    "import math\n",
    "import numpy as np\n",
    "import matplotlib.pyplot as plt\n",
    "import matplotlib \n",
    "from matplotlib import cm\n",
    "import random\n",
    "import scipy.stats as stats\n",
    "import warnings\n",
    "from matplotlib.colors import LogNorm\n",
    "from prettytable import PrettyTable\n",
    "import optunity\n",
    "from mpl_toolkits.axes_grid1 import make_axes_locatable"
   ]
  },
  {
   "cell_type": "markdown",
   "metadata": {},
   "source": [
    "### 3.2 Domain"
   ]
  },
  {
   "cell_type": "code",
   "execution_count": 6,
   "metadata": {},
   "outputs": [],
   "source": [
    "x_low = -0.3\n",
    "x_high = -0.1\n",
    "y_low = 0\n",
    "y_high = 0.15"
   ]
  },
  {
   "cell_type": "markdown",
   "metadata": {},
   "source": [
    "### 3.3 Constrains"
   ]
  },
  {
   "cell_type": "code",
   "execution_count": 7,
   "metadata": {},
   "outputs": [],
   "source": [
    "def const(x,y,no):\n",
    "    \"\"\"Parameter space constraints for x and y values\n",
    "    \n",
    "    INPUTS:\n",
    "    x:      first parameter search space component as numpy.ndarray\n",
    "    y:      second parameter search space component as numpy.ndarray\n",
    "    no:     number of the constraint that wants to be evaluated\n",
    "    (although not an input, this function should be used with constVal and\n",
    "    compMode lists that have the constraints values)\n",
    "    \n",
    "    OUTPUTS:\n",
    "    array:  mutated individual as numpy.ndarray\n",
    "    \n",
    "    This function evaluates the constraints for the set of values in x and y in the\n",
    "    desired function no-th. This follows Python notation where the first function is\n",
    "    0, the second is 1,...\n",
    "    \"\"\"\n",
    "    \n",
    "    # Conditional for domain\n",
    "    if no == 0:\n",
    "        return x\n",
    "    if no == 1:\n",
    "        return x\n",
    "    if no == 2:\n",
    "        return y\n",
    "    if no == 3:\n",
    "        return y"
   ]
  },
  {
   "cell_type": "code",
   "execution_count": 8,
   "metadata": {},
   "outputs": [],
   "source": [
    "constVal = [x_high, x_low, y_high, y_low]\n",
    "compMode = ['leq', 'geq', 'leq', 'geq']"
   ]
  },
  {
   "cell_type": "code",
   "execution_count": 9,
   "metadata": {},
   "outputs": [],
   "source": [
    "def constrainedPts(points, const, constVal, compMode):\n",
    "    \"\"\"Function that will constraint points out of bounds\n",
    "    \n",
    "    INPUTS:\n",
    "    points:     points in the parameter search space as a numpy.ndarray\n",
    "    const:      function with search space components and constraints number\n",
    "    constVal:   comparison value for each constraint as list\n",
    "    compMode:   comparison mode ('leq','geq','less','greater','equal') as list\n",
    "    \n",
    "    OUTPUTS:\n",
    "    booleanMat: boolean matrix with 1 for the non valid points (constrained)\n",
    "    \n",
    "    This function will evaluate the constraints for all points in the set returning a \n",
    "    boolean masked matrix with the values that are constrained. It will raise an error\n",
    "    in there is something wrong with the comparison mode. \n",
    "    \"\"\"\n",
    "    \n",
    "    #Let's create a function that checks if any of the points is constrained and returns its boolean\n",
    "    boolMat = np.zeros([len(constVal), points.shape[0]])\n",
    "    #Let's get the points that are valid under the constraints\n",
    "    for i in range(len(constVal)):\n",
    "        if compMode[i] == 'leq':\n",
    "            boolMat[i,:] = np.logical_or(const(points[:,0], points[:,1], i) < constVal[i],\n",
    "                                         const(points[:,0], points[:,1], i) == constVal[i])\n",
    "        elif compMode[i] == 'less':\n",
    "            boolMat[i,:] = const(points[:,0], points[:,1], i) < constVal[i]\n",
    "        elif compMode[i] == 'geq':\n",
    "            boolMat[i,:] = np.logical_or(const(points[:,0], points[:,1], i) > constVal[i], \n",
    "                                         const(points[:,0], points[:,1], i) == constVal[i])\n",
    "        elif compMode[i] == 'greater':\n",
    "            boolMat[i,:] = const(points[:,0], points[:,1], i) > constVal[i]\n",
    "        elif compMode[i] == 'eq':\n",
    "            boolMat[i,:] = const(points[:,0], points[:,1], i) == constVal[i]\n",
    "        else:\n",
    "            raise RuntimeError('Bad comparison mode matrix')\n",
    "    #Once all the comparisons are made, the output should be an OR array along the boolMat\n",
    "    return np.logical_or.reduce(np.logical_not(boolMat))"
   ]
  },
  {
   "cell_type": "code",
   "execution_count": 10,
   "metadata": {},
   "outputs": [],
   "source": [
    "def initialization(N, randomInit, sobolInit, equalInit):\n",
    "    \"\"\"\n",
    "    Initialization the population \n",
    "    \n",
    "    INPUTS:\n",
    "    N:                number of individuals (perfect square for equalInit)\n",
    "    randomInit:       True for random initialization\n",
    "    sobolInit:        True for Sobol sampling\n",
    "    equalInit:        True for equally-spaced point distribution\n",
    "    limits:           limits of the search domain: [x_low, x_high, y_low, y_high]\n",
    "    (constrainedPts): function that returns a masked array for constrained points\n",
    "    \n",
    "    OUTPUTS:    \n",
    "    initialPop:       numpy.ndarray with the initial N individuals\n",
    "\n",
    "    This function computes the initial population for a two variable problem with \n",
    "    different sampling techniques: random initialization, Sobol sampling and \n",
    "    equally-spaced point distribution\n",
    "    \"\"\"\n",
    "\n",
    "    # Check the flags to select the initialization method\n",
    "    if np.sum([randomInit, sobolInit, equalInit]) > 1:\n",
    "        raise RuntimeError('Incorrect initialization type selection')\n",
    "    if np.sum([randomInit, sobolInit, equalInit]) == 0:\n",
    "        raise RuntimeError('No initialization type selected')\n",
    "    \n",
    "    # Random initialization\n",
    "    # Transpose is used to have the number of individuals in rows and coordinates in columns\n",
    "    if randomInit:\n",
    "        initialPop = np.array([x_low+np.random.rand(N)*(x_high-x_low),\n",
    "                           y_low+np.random.rand(N)*(y_high-y_low)]).T\n",
    "        \n",
    "    # Sobol sampling\n",
    "    if sobolInit:\n",
    "        x1, x2 = zip(*optunity.solvers.Sobol.i4_sobol_generate(2, N, int(np.sqrt(N))))\n",
    "        initialPop = np.vstack(((x_high - x_low) * np.array([x1]) + x_low,\n",
    "                               (y_high - y_low) * np.array([x2]) + y_low)).T\n",
    "        \n",
    "    # Equally-spaced point distribution\n",
    "    if equalInit:\n",
    "        a, b = np.meshgrid(np.linspace(x_low,x_high,int(np.sqrt(N))), np.linspace(y_low,y_high,int(np.sqrt(N))))\n",
    "        initialPop = np.vstack((np.reshape(a, len(a)**2),np.reshape(b, len(b)**2))).T\n",
    "        \n",
    "    # Constrained values will be replaced with a random numbers in its places\n",
    "    while sum(constrainedPts(initialPop, const, constVal, compMode)) != 0:\n",
    "        # The points where the constraints are not fulfilled ...\n",
    "        boolMat = constrainedPts(initialPop, const, constVal, compMode)\n",
    "        # ... are replaced with random numbers\n",
    "        for i in np.argwhere(boolMat == True):\n",
    "            initialPop[i] = np.array([x_low+np.random.rand(1)*(x_high-x_low),y_low+np.random.rand(1)*(y_high-y_low)]).T\n",
    "\n",
    "    return initialPop"
   ]
  },
  {
   "cell_type": "code",
   "execution_count": 15,
   "metadata": {},
   "outputs": [],
   "source": [
    "a = initialization(64,False,True,False)"
   ]
  },
  {
   "cell_type": "code",
   "execution_count": 17,
   "metadata": {},
   "outputs": [
    {
     "data": {
      "text/plain": [
       "[<matplotlib.lines.Line2D at 0x7f50275dd208>]"
      ]
     },
     "execution_count": 17,
     "metadata": {},
     "output_type": "execute_result"
    },
    {
     "data": {
      "image/png": "[encoded data removed]",
      "text/plain": [
       "<matplotlib.figure.Figure at 0x7f502764b0b8>"
      ]
     },
     "metadata": {},
     "output_type": "display_data"
    }
   ],
   "source": [
    "plt.plot(a[:,0],a[:,1],'.')"
   ]
  },
  {
   "cell_type": "code",
   "execution_count": null,
   "metadata": {},
   "outputs": [],
   "source": []
  }
 ],
 "metadata": {
  "kernelspec": {
   "display_name": "Python 3",
   "language": "python",
   "name": "python3"
  },
  "language_info": {
   "codemirror_mode": {
    "name": "ipython",
    "version": 3
   },
   "file_extension": ".py",
   "mimetype": "text/x-python",
   "name": "python",
   "nbconvert_exporter": "python",
   "pygments_lexer": "ipython3",
   "version": "3.6.1"
  }
 },
 "nbformat": 4,
 "nbformat_minor": 2
}
