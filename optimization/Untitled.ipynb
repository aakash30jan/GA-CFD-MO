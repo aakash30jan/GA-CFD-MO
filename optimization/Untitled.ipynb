{
 "cells": [
  {
   "cell_type": "code",
   "execution_count": 39,
   "metadata": {},
   "outputs": [],
   "source": [
    "% matplotlib inline\n",
    "# Program Name: NSGA-II.py\n",
    "# Description: This is a python implementation of Prof. Kalyanmoy Deb's popular NSGA-II algorithm\n",
    "# Author: Haris Ali Khan \n",
    "# Supervisor: Prof. Manoj Kumar Tiwari\n",
    "\n",
    "#Importing required modules\n",
    "import math\n",
    "import random\n",
    "\n",
    "import matplotlib.pyplot as plt"
   ]
  },
  {
   "cell_type": "code",
   "execution_count": 40,
   "metadata": {},
   "outputs": [],
   "source": [
    "#First function to optimize\n",
    "def function1(x):\n",
    "    value = -4*x**2\n",
    "    return value"
   ]
  },
  {
   "cell_type": "code",
   "execution_count": 41,
   "metadata": {},
   "outputs": [],
   "source": [
    "#Second function to optimize\n",
    "def function2(x):\n",
    "    value = -(x-5)**2\n",
    "    return value"
   ]
  },
  {
   "cell_type": "code",
   "execution_count": 42,
   "metadata": {},
   "outputs": [],
   "source": [
    "#Function to find index of list\n",
    "def index_of(a,list):\n",
    "    for i in range(0,len(list)):\n",
    "        if list[i] == a:\n",
    "            return i\n",
    "    return -1"
   ]
  },
  {
   "cell_type": "code",
   "execution_count": 43,
   "metadata": {},
   "outputs": [],
   "source": [
    "#Function to sort by values\n",
    "def sort_by_values(list1, values):\n",
    "    sorted_list = []\n",
    "    while(len(sorted_list)!=len(list1)):\n",
    "        if index_of(min(values),values) in list1:\n",
    "            sorted_list.append(index_of(min(values),values))\n",
    "        values[index_of(min(values),values)] = math.inf\n",
    "    return sorted_list"
   ]
  },
  {
   "cell_type": "code",
   "execution_count": 44,
   "metadata": {},
   "outputs": [],
   "source": [
    "#Function to carry out NSGA-II's fast non dominated sort\n",
    "def fast_non_dominated_sort(values1, values2):\n",
    "    S=[[] for i in range(0,len(values1))]\n",
    "    front = [[]]\n",
    "    n=[0 for i in range(0,len(values1))]\n",
    "    rank = [0 for i in range(0, len(values1))]\n",
    "\n",
    "    for p in range(0,len(values1)):\n",
    "        S[p]=[]\n",
    "        n[p]=0\n",
    "        for q in range(0, len(values1)):\n",
    "            if (values1[p] > values1[q] and values2[p] > values2[q]) or (values1[p] >= values1[q] and values2[p] > values2[q]) or (values1[p] > values1[q] and values2[p] >= values2[q]):\n",
    "                if q not in S[p]:\n",
    "                    S[p].append(q)\n",
    "            elif (values1[q] > values1[p] and values2[q] > values2[p]) or (values1[q] >= values1[p] and values2[q] > values2[p]) or (values1[q] > values1[p] and values2[q] >= values2[p]):\n",
    "                n[p] = n[p] + 1\n",
    "        if n[p]==0:\n",
    "            rank[p] = 0\n",
    "            if p not in front[0]:\n",
    "                front[0].append(p)\n",
    "\n",
    "    i = 0\n",
    "    while(front[i] != []):\n",
    "        Q=[]\n",
    "        for p in front[i]:\n",
    "            for q in S[p]:\n",
    "                n[q] =n[q] - 1\n",
    "                if( n[q]==0):\n",
    "                    rank[q]=i+1\n",
    "                    if q not in Q:\n",
    "                        Q.append(q)\n",
    "        i = i+1\n",
    "        front.append(Q)\n",
    "\n",
    "    del front[len(front)-1]\n",
    "    return front"
   ]
  },
  {
   "cell_type": "code",
   "execution_count": 45,
   "metadata": {},
   "outputs": [],
   "source": [
    "#Function to calculate crowding distance\n",
    "def crowding_distance(values1, values2, front):\n",
    "    distance = [0 for i in range(0,len(front))]\n",
    "    sorted1 = sort_by_values(front, values1[:])\n",
    "    sorted2 = sort_by_values(front, values2[:])\n",
    "    distance[0] = 4444444444444444\n",
    "    distance[len(front) - 1] = 4444444444444444\n",
    "    for k in range(1,len(front)-1):\n",
    "        distance[k] = distance[k]+ (values1[sorted1[k+1]] - values2[sorted1[k-1]])/(max(values1)-min(values1))\n",
    "    for k in range(1,len(front)-1):\n",
    "        distance[k] = distance[k]+ (values1[sorted2[k+1]] - values2[sorted2[k-1]])/(max(values2)-min(values2))\n",
    "    return distance"
   ]
  },
  {
   "cell_type": "code",
   "execution_count": 46,
   "metadata": {},
   "outputs": [],
   "source": [
    "#Function to carry out the crossover\n",
    "def crossover(a,b):\n",
    "    r=random.random()\n",
    "    if r>0.5:\n",
    "        return mutation((a+b)/2)\n",
    "    else:\n",
    "        return mutation((a-b)/2)"
   ]
  },
  {
   "cell_type": "code",
   "execution_count": 47,
   "metadata": {},
   "outputs": [],
   "source": [
    "#Function to carry out the mutation operator\n",
    "def mutation(solution):\n",
    "    mutation_prob = random.random()\n",
    "    if mutation_prob <1:\n",
    "        solution = min_x+(max_x-min_x)*random.random()\n",
    "    return solution"
   ]
  },
  {
   "cell_type": "code",
   "execution_count": 48,
   "metadata": {},
   "outputs": [],
   "source": [
    "#Main program starts here\n",
    "pop_size = 30\n",
    "max_gen = 10"
   ]
  },
  {
   "cell_type": "code",
   "execution_count": 49,
   "metadata": {},
   "outputs": [],
   "source": [
    "#Initialization\n",
    "min_x=-55\n",
    "max_x=55\n",
    "solution=[min_x+(max_x-min_x)*random.random() for i in range(0,pop_size)]"
   ]
  },
  {
   "cell_type": "code",
   "execution_count": 50,
   "metadata": {},
   "outputs": [
    {
     "data": {
      "text/plain": [
       "[-1.9847593417968596,\n",
       " -21.587463640824893,\n",
       " -52.71763165180492,\n",
       " -2.1939583359121997,\n",
       " 11.168149824617487,\n",
       " 25.37925906836651,\n",
       " -14.176107383386508,\n",
       " 29.057948238383133,\n",
       " 23.321582258034894,\n",
       " 21.322065739091514,\n",
       " -6.380443698087554,\n",
       " -38.29259972306261,\n",
       " -21.54144561184833,\n",
       " 33.96464459277651,\n",
       " 18.202413436997233,\n",
       " -3.028543207195412,\n",
       " -17.849263659623368,\n",
       " -22.630851827564484,\n",
       " 52.15420249132977,\n",
       " -12.708552947515876,\n",
       " 49.586467153294564,\n",
       " -6.855305471799028,\n",
       " 52.03850198863017,\n",
       " 50.41643629576703,\n",
       " 53.466172614437966,\n",
       " -29.7923630302828,\n",
       " 48.876853775814055,\n",
       " -40.45829298320069,\n",
       " -42.85743053194779,\n",
       " -4.067250356138324]"
      ]
     },
     "execution_count": 50,
     "metadata": {},
     "output_type": "execute_result"
    }
   ],
   "source": [
    "solution"
   ]
  },
  {
   "cell_type": "code",
   "execution_count": 51,
   "metadata": {},
   "outputs": [
    {
     "data": {
      "text/plain": [
       "[-15.757078579399614,\n",
       " -1864.074345775747,\n",
       " -11116.594747901536,\n",
       " -19.253812718874514,\n",
       " -498.9102820204144,\n",
       " -2576.427163437055,\n",
       " -803.8480821812219,\n",
       " -3377.4574232982136,\n",
       " -2175.5847960731517,\n",
       " -1818.5219495285605,\n",
       " -162.8402471378607,\n",
       " -5865.292774202778,\n",
       " -1856.1355161928789,\n",
       " -4614.38832925449,\n",
       " -1325.3114197255097,\n",
       " -36.68829583139789,\n",
       " -1274.3848527630055,\n",
       " -2048.621817764715,\n",
       " -10880.243350026514,\n",
       " -646.0292720792579,\n",
       " -9835.270898979043,\n",
       " -187.98085244671077,\n",
       " -10832.022756882667,\n",
       " -10167.26819506054,\n",
       " -11434.526456147505,\n",
       " -3550.3395797126454,\n",
       " -9555.787340089235,\n",
       " -6547.493884458026,\n",
       " -7347.037407202923,\n",
       " -66.17010183802928]"
      ]
     },
     "execution_count": 51,
     "metadata": {},
     "output_type": "execute_result"
    }
   ],
   "source": [
    "[function1(solution[i]) for i in range(0,pop_size)]"
   ]
  },
  {
   "cell_type": "code",
   "execution_count": 52,
   "metadata": {},
   "outputs": [
    {
     "data": {
      "text/plain": [
       "[[0, 1, 2, 3, 4, 5, 6, 7, 8, 9, 10, 11, 12],\n",
       " [14, 13],\n",
       " [16, 15],\n",
       " [18, 17],\n",
       " [20, 19],\n",
       " [22, 21],\n",
       " [24, 23],\n",
       " [26, 25],\n",
       " [28, 27],\n",
       " [29]]"
      ]
     },
     "execution_count": 52,
     "metadata": {},
     "output_type": "execute_result"
    }
   ],
   "source": [
    "fast_non_dominated_sort(function1_values[:],function2_values[:])"
   ]
  },
  {
   "cell_type": "code",
   "execution_count": 54,
   "metadata": {},
   "outputs": [],
   "source": [
    "    crowding_distance_values=[]\n",
    "    for i in range(0,len(non_dominated_sorted_solution)):\n",
    "        crowding_distance_values.append(crowding_distance(function1_values[:],function2_values[:],non_dominated_sorted_solution[i][:]))\n",
    "    solution2 = solution[:]"
   ]
  },
  {
   "cell_type": "code",
   "execution_count": 55,
   "metadata": {},
   "outputs": [
    {
     "data": {
      "text/plain": [
       "[-1.9847593417968596,\n",
       " -21.587463640824893,\n",
       " -52.71763165180492,\n",
       " -2.1939583359121997,\n",
       " 11.168149824617487,\n",
       " 25.37925906836651,\n",
       " -14.176107383386508,\n",
       " 29.057948238383133,\n",
       " 23.321582258034894,\n",
       " 21.322065739091514,\n",
       " -6.380443698087554,\n",
       " -38.29259972306261,\n",
       " -21.54144561184833,\n",
       " 33.96464459277651,\n",
       " 18.202413436997233,\n",
       " -3.028543207195412,\n",
       " -17.849263659623368,\n",
       " -22.630851827564484,\n",
       " 52.15420249132977,\n",
       " -12.708552947515876,\n",
       " 49.586467153294564,\n",
       " -6.855305471799028,\n",
       " 52.03850198863017,\n",
       " 50.41643629576703,\n",
       " 53.466172614437966,\n",
       " -29.7923630302828,\n",
       " 48.876853775814055,\n",
       " -40.45829298320069,\n",
       " -42.85743053194779,\n",
       " -4.067250356138324]"
      ]
     },
     "execution_count": 55,
     "metadata": {},
     "output_type": "execute_result"
    }
   ],
   "source": [
    "solution2"
   ]
  },
  {
   "cell_type": "code",
   "execution_count": 56,
   "metadata": {},
   "outputs": [
    {
     "name": "stdout",
     "output_type": "stream",
     "text": [
      "The best front for Generation number  0  is\n",
      "-1.985 11.168 \n",
      "\n",
      "The best front for Generation number  1  is\n",
      "5.727 -0.299 1.922 \n",
      "\n",
      "The best front for Generation number  2  is\n",
      "1.922 5.727 -0.299 \n",
      "\n",
      "The best front for Generation number  3  is\n",
      "2.926 1.922 5.727 -0.299 1.133 \n",
      "\n",
      "The best front for Generation number  4  is\n",
      "3.137 2.926 1.922 5.727 -0.299 1.133 \n",
      "\n",
      "The best front for Generation number  5  is\n",
      "1.133 3.137 2.926 1.922 5.727 -0.299 \n",
      "\n",
      "The best front for Generation number  6  is\n",
      "-0.299 1.133 3.137 2.926 1.922 5.727 \n",
      "\n",
      "The best front for Generation number  7  is\n",
      "3.296 -0.299 1.133 3.137 2.926 1.922 5.727 3.931 \n",
      "\n",
      "The best front for Generation number  8  is\n",
      "4.985 3.296 -0.299 1.133 3.137 2.926 1.922 3.931 4.24 3.4 3.062 \n",
      "\n",
      "The best front for Generation number  9  is\n",
      "3.318 4.985 3.296 -0.299 1.133 3.137 2.926 1.922 3.931 4.24 3.4 3.062 \n",
      "\n"
     ]
    }
   ],
   "source": [
    "gen_no=0\n",
    "while(gen_no<max_gen):\n",
    "    function1_values = [function1(solution[i])for i in range(0,pop_size)]\n",
    "    function2_values = [function2(solution[i])for i in range(0,pop_size)]\n",
    "    non_dominated_sorted_solution = fast_non_dominated_sort(function1_values[:],function2_values[:])\n",
    "    print(\"The best front for Generation number \",gen_no, \" is\")\n",
    "    for valuez in non_dominated_sorted_solution[0]:\n",
    "        print(round(solution[valuez],3),end=\" \")\n",
    "    print(\"\\n\")\n",
    "    crowding_distance_values=[]\n",
    "    for i in range(0,len(non_dominated_sorted_solution)):\n",
    "        crowding_distance_values.append(crowding_distance(function1_values[:],function2_values[:],non_dominated_sorted_solution[i][:]))\n",
    "    solution2 = solution[:]\n",
    "    #Generating offsprings\n",
    "    while(len(solution2)!=2*pop_size):\n",
    "        a1 = random.randint(0,pop_size-1)\n",
    "        b1 = random.randint(0,pop_size-1)\n",
    "        solution2.append(crossover(solution[a1],solution[b1]))\n",
    "    function1_values2 = [function1(solution2[i])for i in range(0,2*pop_size)]\n",
    "    function2_values2 = [function2(solution2[i])for i in range(0,2*pop_size)]\n",
    "    non_dominated_sorted_solution2 = fast_non_dominated_sort(function1_values2[:],function2_values2[:])\n",
    "    crowding_distance_values2=[]\n",
    "    for i in range(0,len(non_dominated_sorted_solution2)):\n",
    "        crowding_distance_values2.append(crowding_distance(function1_values2[:],function2_values2[:],non_dominated_sorted_solution2[i][:]))\n",
    "    new_solution= []\n",
    "    for i in range(0,len(non_dominated_sorted_solution2)):\n",
    "        non_dominated_sorted_solution2_1 = [index_of(non_dominated_sorted_solution2[i][j],non_dominated_sorted_solution2[i] ) for j in range(0,len(non_dominated_sorted_solution2[i]))]\n",
    "        front22 = sort_by_values(non_dominated_sorted_solution2_1[:], crowding_distance_values2[i][:])\n",
    "        front = [non_dominated_sorted_solution2[i][front22[j]] for j in range(0,len(non_dominated_sorted_solution2[i]))]\n",
    "        front.reverse()\n",
    "        for value in front:\n",
    "            new_solution.append(value)\n",
    "            if(len(new_solution)==pop_size):\n",
    "                break\n",
    "        if (len(new_solution) == pop_size):\n",
    "            break\n",
    "    solution = [solution2[i] for i in new_solution]\n",
    "    gen_no = gen_no + 1"
   ]
  },
  {
   "cell_type": "code",
   "execution_count": 58,
   "metadata": {},
   "outputs": [
    {
     "data": {
      "text/plain": [
       "[[4444444444444444,\n",
       "  -0.04261682352712054,\n",
       "  -0.41411355693841434,\n",
       "  -0.5192634033034244,\n",
       "  -0.6045923198540429,\n",
       "  -0.65010416970687,\n",
       "  -0.6548103550288917,\n",
       "  -0.6778107008369121,\n",
       "  -0.8138994188039473,\n",
       "  -0.9143098627404701,\n",
       "  -1.2592101423826556,\n",
       "  4444444444444444],\n",
       " [4444444444444444, 4444444444444444],\n",
       " [4444444444444444, 4444444444444444],\n",
       " [4444444444444444, 4444444444444444],\n",
       " [4444444444444444, 4444444444444444],\n",
       " [4444444444444444, 4444444444444444],\n",
       " [4444444444444444, 4444444444444444],\n",
       " [4444444444444444, 4444444444444444],\n",
       " [4444444444444444, 4444444444444444],\n",
       " [4444444444444444, 4444444444444444]]"
      ]
     },
     "execution_count": 58,
     "metadata": {},
     "output_type": "execute_result"
    }
   ],
   "source": [
    "crowding_distance_values"
   ]
  },
  {
   "cell_type": "code",
   "execution_count": 59,
   "metadata": {},
   "outputs": [
    {
     "data": {
      "text/plain": [
       "[[4444444444444444,\n",
       "  0.0003658220246540141,\n",
       "  -0.0035127917995411385,\n",
       "  -0.003953285056751925,\n",
       "  -0.005870788818237068,\n",
       "  -0.010718456833182809,\n",
       "  -0.011811955882235197,\n",
       "  -0.013157995620103186,\n",
       "  -0.014167534772338546,\n",
       "  -0.013156860622064644,\n",
       "  -0.013469074646086031,\n",
       "  -0.01717737255825938,\n",
       "  -0.019741614060056503,\n",
       "  -0.02583611098967976,\n",
       "  -0.027392734212907617,\n",
       "  4444444444444444],\n",
       " [4444444444444444, 4444444444444444],\n",
       " [4444444444444444, 4444444444444444],\n",
       " [4444444444444444, 4444444444444444],\n",
       " [4444444444444444, 4444444444444444],\n",
       " [4444444444444444, 4444444444444444],\n",
       " [4444444444444444, 4444444444444444],\n",
       " [4444444444444444, 4444444444444444],\n",
       " [4444444444444444, 4444444444444444],\n",
       " [4444444444444444, 4444444444444444],\n",
       " [4444444444444444],\n",
       " [4444444444444444],\n",
       " [4444444444444444],\n",
       " [4444444444444444, 4444444444444444],\n",
       " [4444444444444444, 4444444444444444],\n",
       " [4444444444444444],\n",
       " [4444444444444444, 4444444444444444],\n",
       " [4444444444444444, 4444444444444444],\n",
       " [4444444444444444],\n",
       " [4444444444444444, 4444444444444444],\n",
       " [4444444444444444, 4444444444444444],\n",
       " [4444444444444444],\n",
       " [4444444444444444],\n",
       " [4444444444444444],\n",
       " [4444444444444444],\n",
       " [4444444444444444],\n",
       " [4444444444444444],\n",
       " [4444444444444444],\n",
       " [4444444444444444],\n",
       " [4444444444444444]]"
      ]
     },
     "execution_count": 59,
     "metadata": {},
     "output_type": "execute_result"
    }
   ],
   "source": [
    "crowding_distance_values2"
   ]
  },
  {
   "cell_type": "code",
   "execution_count": null,
   "metadata": {},
   "outputs": [],
   "source": []
  }
 ],
 "metadata": {
  "kernelspec": {
   "display_name": "Python 3",
   "language": "python",
   "name": "python3"
  },
  "language_info": {
   "codemirror_mode": {
    "name": "ipython",
    "version": 3
   },
   "file_extension": ".py",
   "mimetype": "text/x-python",
   "name": "python",
   "nbconvert_exporter": "python",
   "pygments_lexer": "ipython3",
   "version": "3.6.1"
  }
 },
 "nbformat": 4,
 "nbformat_minor": 2
}
